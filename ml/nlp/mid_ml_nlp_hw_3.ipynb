{
 "cells": [
  {
   "cell_type": "markdown",
   "metadata": {
    "id": "vGhDg4qLnDYW"
   },
   "source": [
    "## Урок 3 \n",
    "\n",
    "### Задание начального уровня\n",
    "\n",
    "Потренируйтесь в нахождении матрицы схожести для валидационного сета\n",
    "\n",
    "* загрузите `brand_tweets_valid.csv`\n",
    "* примените объект `vectorizer`, обученный на датасете `brand_tweets.csv` (просто скопируйте этот код из урока)\n",
    "* примените функцию `pairwise_distances` к полученной матрице"
   ]
  },
  {
   "cell_type": "code",
   "execution_count": 9,
   "metadata": {
    "colab": {
     "base_uri": "https://localhost:8080/"
    },
    "id": "99KOvFLtp-WP",
    "outputId": "70811df0-2671-457b-847b-87a7b68ab20c"
   },
   "outputs": [
    {
     "name": "stdout",
     "output_type": "stream",
     "text": [
      "[nltk_data] Downloading package punkt to /root/nltk_data...\n",
      "[nltk_data]   Unzipping tokenizers/punkt.zip.\n"
     ]
    },
    {
     "data": {
      "text/plain": [
       "True"
      ]
     },
     "execution_count": 9,
     "metadata": {
      "tags": []
     },
     "output_type": "execute_result"
    }
   ],
   "source": [
    "nltk.download('punkt')"
   ]
  },
  {
   "cell_type": "code",
   "execution_count": 2,
   "metadata": {
    "id": "EochMJDkpOh0"
   },
   "outputs": [],
   "source": [
    "import nltk\n",
    "\n",
    "stop_words = [\n",
    "    'i', 'me', 'my', 'myself', 'we', 'our', 'ours', 'ourselves', 'you', \"you're\", \"you've\", \"you'll\", \"you'd\",\n",
    "    'your', 'yours', 'yourself', 'yourselves', 'he', 'him', 'his', 'himself', 'she', \"she's\", 'her', 'hers',\n",
    "    'herself', 'it', \"it's\", 'its', 'itself', 'they', 'them', 'their', 'theirs', 'themselves', 'what', 'which',\n",
    "    'who', 'whom', 'this', 'that', \"that'll\", 'these', 'those', 'am', 'is', 'are', 'was', 'were', 'be', 'been',\n",
    "    'being', 'have', 'has', 'had', 'having', 'do', 'does', 'did', 'doing', 'a', 'an', 'the', 'and', 'but', 'if',\n",
    "    'or', 'because', 'as', 'until', 'while', 'of', 'at', 'by', 'for', 'with', 'about', 'against', 'between',\n",
    "    'into', 'through', 'during', 'before', 'after', 'above', 'below', 'to', 'from', 'up', 'down', 'in', 'out',\n",
    "    'on', 'off', 'over', 'under', 'again', 'further', 'then', 'once', 'here', 'there', 'when', 'where', 'why',\n",
    "    'how', 'all', 'any', 'both', 'each', 'few', 'more', 'most', 'other', 'some', 'such', 'no', 'nor', 'not',\n",
    "    'only', 'own', 'same', 'so', 'than', 'too', 'very', 's', 't', 'can', 'will', 'just', 'don', \"don't\", 'shold',\n",
    "    \"should've\", 'now', 'd', 'll', 'm', 'o', 're', 've', 'y', 'ain', 'aren', \"aren't\", 'couldn', \"couldn't\",\n",
    "    'didn', \"didn't\", 'doesn', \"doesn't\", 'hadn', \"hadn't\", 'hasn', \"hasn't\", 'haven', \"haven't\", 'isn', \"isn't\",\n",
    "    'ma', 'mightn', \"mightn't\", 'mustn', \"mustn't\", 'needn', \"needn't\", 'shan', \"shan't\", 'shouldn', \"shouldn't\",\n",
    "    'wasn', \"wasn't\", 'weren', \"weren't\", 'won', \"won't\", 'wouldn', \"wouldn't\"\n",
    "]\n",
    "\n",
    "def tokenizer(text):\n",
    "    text = text.lower()\n",
    "    tokens = nltk.word_tokenize(text)\n",
    "    tokens = [token for token in tokens if token not in stop_words]\n",
    "    return tokens"
   ]
  },
  {
   "cell_type": "code",
   "execution_count": 16,
   "metadata": {
    "colab": {
     "base_uri": "https://localhost:8080/"
    },
    "id": "krkc6JvTnDYa",
    "outputId": "eabcc69a-2777-4caf-b0f2-443b5f3ef502"
   },
   "outputs": [
    {
     "name": "stderr",
     "output_type": "stream",
     "text": [
      "/usr/local/lib/python3.7/dist-packages/sklearn/feature_extraction/text.py:507: UserWarning: The parameter 'token_pattern' will not be used since 'tokenizer' is not None'\n",
      "  warnings.warn(\"The parameter 'token_pattern' will not be used\"\n"
     ]
    }
   ],
   "source": [
    "import pandas as pd\n",
    "from sklearn.feature_extraction.text import CountVectorizer\n",
    "from sklearn.metrics import pairwise_distances\n",
    "\n",
    "df_valid = pd.read_csv('data/brand_tweets_valid.csv', sep=',', encoding='utf8')\n",
    "# удаляем строки, в которых отсутствует текст твита\n",
    "df_valid.drop(df_valid[df_valid.tweet_text.isnull()].index, inplace=True)\n",
    "\n",
    "### YOUR CODE HERE ###\n",
    "df = pd.read_csv('data/brand_tweets.csv', sep=',', encoding='utf8')\n",
    "df.drop(df[df.tweet_text.isnull()].index, inplace=True)\n",
    "vectorizer = CountVectorizer(tokenizer=tokenizer)\n",
    "vectorizer = vectorizer.fit(df.tweet_text)\n",
    "\n",
    "doc_matrix = vectorizer.transform(df_valid.tweet_text)\n",
    "\n",
    "tweet_distance = pairwise_distances(doc_matrix, metric='cosine')"
   ]
  },
  {
   "cell_type": "markdown",
   "metadata": {
    "id": "RQ7_b8FbnDYg"
   },
   "source": [
    "\n",
    "### Задание среднего уровня\n",
    "\n",
    "Пользуясь матрицей схожести, полученной на предыдущем этапе, найдите top-5 твитов, похожих на твит валидационного сета с `id=14`."
   ]
  },
  {
   "cell_type": "code",
   "execution_count": 35,
   "metadata": {
    "colab": {
     "base_uri": "https://localhost:8080/"
    },
    "id": "SgmUriXSnDYh",
    "outputId": "b96e8ad8-72e4-4451-9f5d-ddf162eb3517"
   },
   "outputs": [
    {
     "name": "stdout",
     "output_type": "stream",
     "text": [
      "Popup Apple Store crew has been giving out water to the people in line but they are in street clothes. No Apple logos anywhere yet. #SXSW\n",
      "------------------------------\n",
      "\n"
     ]
    },
    {
     "data": {
      "text/plain": [
       "132    Apple employees just showed up in force to the...\n",
       "16     #sxsw apple store run out for the day :( boo a...\n",
       "341    Wanting in line at the unconfirmed Apple pop-u...\n",
       "238    ZOMG RT @mention Special Apple store at #sxsw ...\n",
       "357    Sitting on the ground waiting for my iPad at t...\n",
       "Name: tweet_text, dtype: object"
      ]
     },
     "execution_count": 35,
     "metadata": {
      "tags": []
     },
     "output_type": "execute_result"
    }
   ],
   "source": [
    "import numpy as np\n",
    "\n",
    "test_tweet_index = 14\n",
    "\n",
    "print(df_valid.iloc[test_tweet_index].tweet_text+'\\n------------------------------\\n')\n",
    "\n",
    "\n",
    "### YOUR CODE HERE ###\n",
    "sorted_similarity = np.argsort(tweet_distance[test_tweet_index, :])\n",
    "\n",
    "df_valid.iloc[sorted_similarity[1:6]].tweet_text"
   ]
  },
  {
   "cell_type": "markdown",
   "metadata": {
    "id": "HdW_C-ninDYm"
   },
   "source": [
    "### Задание высокого уровня.\n",
    "\n",
    "У вас есть матрица схожести между объектами. Попробуйте решить задачу поиска дубликатов в тексте\n",
    "\n",
    "1. Визуализируйте гистограмму значений в матрице схожести.\n",
    "1. Напишите функцию на Python, которая принимает индекс твита, пороговое значение (число от $0.0$ до $1.0$ и матрицу схожести, а затем выводит все твиты, схожесть которых больше, чем пороговое значение."
   ]
  },
  {
   "cell_type": "code",
   "execution_count": 37,
   "metadata": {
    "colab": {
     "base_uri": "https://localhost:8080/"
    },
    "id": "O1V0w8-Xu03a",
    "outputId": "89772f28-901e-4f80-ec94-ed6f62bdad2a"
   },
   "outputs": [
    {
     "data": {
      "text/plain": [
       "array([[0.        , 0.58166999, 0.8511125 , ..., 0.73273876, 0.78178211,\n",
       "        0.71652665],\n",
       "       [0.58166999, 0.        , 0.7923863 , ..., 0.49688471, 0.72613872,\n",
       "        0.44660141],\n",
       "       [0.8511125 , 0.7923863 , 0.        , ..., 0.81430466, 0.77257059,\n",
       "        0.80304035],\n",
       "       ...,\n",
       "       [0.73273876, 0.49688471, 0.81430466, ..., 0.        , 0.74484482,\n",
       "        0.55805826],\n",
       "       [0.78178211, 0.72613872, 0.77257059, ..., 0.74484482, 0.        ,\n",
       "        0.78349365],\n",
       "       [0.71652665, 0.44660141, 0.80304035, ..., 0.55805826, 0.78349365,\n",
       "        0.        ]])"
      ]
     },
     "execution_count": 37,
     "metadata": {
      "tags": []
     },
     "output_type": "execute_result"
    }
   ],
   "source": [
    "tweet_distance"
   ]
  },
  {
   "cell_type": "code",
   "execution_count": 39,
   "metadata": {
    "colab": {
     "base_uri": "https://localhost:8080/",
     "height": 282
    },
    "id": "tEVocl2mnDYn",
    "outputId": "65d44f22-73a2-4937-9920-a181957a075f"
   },
   "outputs": [
    {
     "data": {
      "text/plain": [
       "<BarContainer object of 402 artists>"
      ]
     },
     "execution_count": 39,
     "metadata": {
      "tags": []
     },
     "output_type": "execute_result"
    },
    {
     "data": {
      "image/png": "[encoded data removed]",
      "text/plain": [
       "<Figure size 432x288 with 1 Axes>"
      ]
     },
     "metadata": {
      "needs_background": "light",
      "tags": []
     },
     "output_type": "display_data"
    }
   ],
   "source": [
    "### YOUR CODE HERE ###\n",
    "from matplotlib import pyplot as plt\n",
    "\n",
    "%matplotlib inline\n",
    "\n",
    "### YOUR CODE HERE ###\n",
    "\n",
    "plt.bar(sorted_similarity, tweet_distance[test_tweet_index, :])"
   ]
  },
  {
   "cell_type": "code",
   "execution_count": 58,
   "metadata": {
    "colab": {
     "base_uri": "https://localhost:8080/"
    },
    "id": "Fvrt3BIIwrCa",
    "outputId": "af0c3c99-f1bf-4f83-e867-321ac2b84aaa"
   },
   "outputs": [
    {
     "data": {
      "text/plain": [
       "(array([ 13,  15,  62, 131, 237, 340, 356]),)"
      ]
     },
     "execution_count": 58,
     "metadata": {
      "tags": []
     },
     "output_type": "execute_result"
    }
   ],
   "source": [
    "def find_similar_tweets(tweet_index, similar_coef, similar_matrix):\n",
    "  return np.where((1-similar_matrix[tweet_index, 1:]) >= similar_coef)\n",
    "\n",
    "find_similar_tweets(test_tweet_index, 0.5, tweet_distance)"
   ]
  }
 ],
 "metadata": {
  "colab": {
   "collapsed_sections": [],
   "name": "mid_ml_nlp_hw-3.ipynb",
   "provenance": [],
   "toc_visible": true
  },
  "kernelspec": {
   "display_name": "Python 3",
   "language": "python",
   "name": "python3"
  },
  "language_info": {
   "codemirror_mode": {
    "name": "ipython",
    "version": 3
   },
   "file_extension": ".py",
   "mimetype": "text/x-python",
   "name": "python",
   "nbconvert_exporter": "python",
   "pygments_lexer": "ipython3",
   "version": "3.8.5"
  }
 },
 "nbformat": 4,
 "nbformat_minor": 1
}
