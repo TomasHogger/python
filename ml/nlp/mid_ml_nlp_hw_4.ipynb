{
  "nbformat": 4,
  "nbformat_minor": 0,
  "metadata": {
    "kernelspec": {
      "display_name": "Python 3",
      "language": "python",
      "name": "python3"
    },
    "language_info": {
      "codemirror_mode": {
        "name": "ipython",
        "version": 3
      },
      "file_extension": ".py",
      "mimetype": "text/x-python",
      "name": "python",
      "nbconvert_exporter": "python",
      "pygments_lexer": "ipython3",
      "version": "3.6.3"
    },
    "colab": {
      "name": "mid_ml_nlp_hw-4.ipynb",
      "provenance": [],
      "collapsed_sections": []
    }
  },
  "cells": [
    {
      "cell_type": "markdown",
      "metadata": {
        "id": "5SGn801yaveE"
      },
      "source": [
        "## Урок 4.\n",
        "\n",
        "### Задание начального уровня\n",
        "\n",
        "Обучите модель Skip-Gram (передав параметр `sg=1`. Какие top-10 слов больше всего похожи на слово `iphone` ?"
      ]
    },
    {
      "cell_type": "code",
      "metadata": {
        "id": "SbMO7FDqYP0p"
      },
      "source": [
        "import nltk\r\n",
        "\r\n",
        "stop_words = [\r\n",
        "    'i', 'me', 'my', 'myself', 'we', 'our', 'ours', 'ourselves', 'you', \"you're\", \"you've\", \"you'll\", \"you'd\",\r\n",
        "    'your', 'yours', 'yourself', 'yourselves', 'he', 'him', 'his', 'himself', 'she', \"she's\", 'her', 'hers',\r\n",
        "    'herself', 'it', \"it's\", 'its', 'itself', 'they', 'them', 'their', 'theirs', 'themselves', 'what', 'which',\r\n",
        "    'who', 'whom', 'this', 'that', \"that'll\", 'these', 'those', 'am', 'is', 'are', 'was', 'were', 'be', 'been',\r\n",
        "    'being', 'have', 'has', 'had', 'having', 'do', 'does', 'did', 'doing', 'a', 'an', 'the', 'and', 'but', 'if',\r\n",
        "    'or', 'because', 'as', 'until', 'while', 'of', 'at', 'by', 'for', 'with', 'about', 'against', 'between',\r\n",
        "    'into', 'through', 'during', 'before', 'after', 'above', 'below', 'to', 'from', 'up', 'down', 'in', 'out',\r\n",
        "    'on', 'off', 'over', 'under', 'again', 'further', 'then', 'once', 'here', 'there', 'when', 'where', 'why',\r\n",
        "    'how', 'all', 'any', 'both', 'each', 'few', 'more', 'most', 'other', 'some', 'such', 'no', 'nor', 'not',\r\n",
        "    'only', 'own', 'same', 'so', 'than', 'too', 'very', 's', 't', 'can', 'will', 'just', 'don', \"don't\", 'shold',\r\n",
        "    \"should've\", 'now', 'd', 'll', 'm', 'o', 're', 've', 'y', 'ain', 'aren', \"aren't\", 'couldn', \"couldn't\",\r\n",
        "    'didn', \"didn't\", 'doesn', \"doesn't\", 'hadn', \"hadn't\", 'hasn', \"hasn't\", 'haven', \"haven't\", 'isn', \"isn't\",\r\n",
        "    'ma', 'mightn', \"mightn't\", 'mustn', \"mustn't\", 'needn', \"needn't\", 'shan', \"shan't\", 'shouldn', \"shouldn't\",\r\n",
        "    'wasn', \"wasn't\", 'weren', \"weren't\", 'won', \"won't\", 'wouldn', \"wouldn't\"\r\n",
        "]\r\n",
        "\r\n",
        "def tokenizer(text):\r\n",
        "    text = text.lower()\r\n",
        "    tokens = nltk.word_tokenize(text)\r\n",
        "    tokens = [token for token in tokens if token not in stop_words]\r\n",
        "    return tokens"
      ],
      "execution_count": 3,
      "outputs": []
    },
    {
      "cell_type": "code",
      "metadata": {
        "id": "MKl_QAtOaved",
        "outputId": "4495f0ad-b17a-4fd1-a663-82ce3ad77a66",
        "colab": {
          "base_uri": "https://localhost:8080/"
        }
      },
      "source": [
        "from gensim.models import Word2Vec\n",
        "import pandas as pd\n",
        "import logging\n",
        "\n",
        "logging.basicConfig(format='%(asctime)s : %(levelname)s : %(message)s', level=logging.INFO)\n",
        "\n",
        "### YOUR CODE HERE ###\n",
        "\n",
        "df = pd.read_csv('brand_tweets.csv', sep=',', encoding='utf8')\n",
        "df.drop(df[df.tweet_text.isnull()].index, inplace=True)\n",
        "df['tokenized'] = [tokenizer(x) for x in df.tweet_text]\n",
        "\n",
        "\n",
        "\n",
        "texts = df.tokenized.values\n",
        "model = Word2Vec(texts, size=10, window=7, min_count=2, workers=4, iter=10, sg=1)\n",
        "model.wv.most_similar('iphone')"
      ],
      "execution_count": 10,
      "outputs": [
        {
          "output_type": "stream",
          "text": [
            "2021-03-08 07:50:31,068 : WARNING : consider setting layer size to a multiple of 4 for greater performance\n",
            "2021-03-08 07:50:31,070 : INFO : collecting all words and their counts\n",
            "2021-03-08 07:50:31,072 : INFO : PROGRESS: at sentence #0, processed 0 words, keeping 0 word types\n",
            "2021-03-08 07:50:31,095 : INFO : collected 7337 word types from a corpus of 71702 raw words and 3904 sentences\n",
            "2021-03-08 07:50:31,096 : INFO : Loading a fresh vocabulary\n",
            "2021-03-08 07:50:31,110 : INFO : effective_min_count=2 retains 3109 unique words (42% of original 7337, drops 4228)\n",
            "2021-03-08 07:50:31,111 : INFO : effective_min_count=2 leaves 67474 word corpus (94% of original 71702, drops 4228)\n",
            "2021-03-08 07:50:31,126 : INFO : deleting the raw counts dictionary of 7337 items\n",
            "2021-03-08 07:50:31,127 : INFO : sample=0.001 downsamples 40 most-common words\n",
            "2021-03-08 07:50:31,128 : INFO : downsampling leaves estimated 38104 word corpus (56.5% of prior 67474)\n",
            "2021-03-08 07:50:31,143 : INFO : estimated required memory for 3109 words and 10 dimensions: 1803220 bytes\n",
            "2021-03-08 07:50:31,144 : INFO : resetting layer weights\n",
            "2021-03-08 07:50:31,788 : INFO : training model with 4 workers on 3109 vocabulary and 10 features, using sg=1 hs=0 sample=0.001 negative=5 window=7\n",
            "2021-03-08 07:50:31,924 : INFO : worker thread finished; awaiting finish of 3 more threads\n",
            "2021-03-08 07:50:31,931 : INFO : worker thread finished; awaiting finish of 2 more threads\n",
            "2021-03-08 07:50:31,943 : INFO : worker thread finished; awaiting finish of 1 more threads\n",
            "2021-03-08 07:50:31,957 : INFO : worker thread finished; awaiting finish of 0 more threads\n",
            "2021-03-08 07:50:31,958 : INFO : EPOCH - 1 : training on 71702 raw words (38033 effective words) took 0.2s, 236826 effective words/s\n",
            "2021-03-08 07:50:32,096 : INFO : worker thread finished; awaiting finish of 3 more threads\n",
            "2021-03-08 07:50:32,103 : INFO : worker thread finished; awaiting finish of 2 more threads\n",
            "2021-03-08 07:50:32,135 : INFO : worker thread finished; awaiting finish of 1 more threads\n",
            "2021-03-08 07:50:32,139 : INFO : worker thread finished; awaiting finish of 0 more threads\n",
            "2021-03-08 07:50:32,141 : INFO : EPOCH - 2 : training on 71702 raw words (38200 effective words) took 0.2s, 222790 effective words/s\n",
            "2021-03-08 07:50:32,274 : INFO : worker thread finished; awaiting finish of 3 more threads\n",
            "2021-03-08 07:50:32,287 : INFO : worker thread finished; awaiting finish of 2 more threads\n",
            "2021-03-08 07:50:32,313 : INFO : worker thread finished; awaiting finish of 1 more threads\n",
            "2021-03-08 07:50:32,318 : INFO : worker thread finished; awaiting finish of 0 more threads\n",
            "2021-03-08 07:50:32,320 : INFO : EPOCH - 3 : training on 71702 raw words (38172 effective words) took 0.2s, 236647 effective words/s\n",
            "2021-03-08 07:50:32,442 : INFO : worker thread finished; awaiting finish of 3 more threads\n",
            "2021-03-08 07:50:32,462 : INFO : worker thread finished; awaiting finish of 2 more threads\n",
            "2021-03-08 07:50:32,484 : INFO : worker thread finished; awaiting finish of 1 more threads\n",
            "2021-03-08 07:50:32,491 : INFO : worker thread finished; awaiting finish of 0 more threads\n",
            "2021-03-08 07:50:32,492 : INFO : EPOCH - 4 : training on 71702 raw words (38150 effective words) took 0.2s, 236475 effective words/s\n",
            "2021-03-08 07:50:32,618 : INFO : worker thread finished; awaiting finish of 3 more threads\n",
            "2021-03-08 07:50:32,629 : INFO : worker thread finished; awaiting finish of 2 more threads\n",
            "2021-03-08 07:50:32,659 : INFO : worker thread finished; awaiting finish of 1 more threads\n",
            "2021-03-08 07:50:32,664 : INFO : worker thread finished; awaiting finish of 0 more threads\n",
            "2021-03-08 07:50:32,665 : INFO : EPOCH - 5 : training on 71702 raw words (38087 effective words) took 0.2s, 236872 effective words/s\n",
            "2021-03-08 07:50:32,790 : INFO : worker thread finished; awaiting finish of 3 more threads\n",
            "2021-03-08 07:50:32,816 : INFO : worker thread finished; awaiting finish of 2 more threads\n",
            "2021-03-08 07:50:32,832 : INFO : worker thread finished; awaiting finish of 1 more threads\n",
            "2021-03-08 07:50:32,840 : INFO : worker thread finished; awaiting finish of 0 more threads\n",
            "2021-03-08 07:50:32,841 : INFO : EPOCH - 6 : training on 71702 raw words (38220 effective words) took 0.2s, 232502 effective words/s\n",
            "2021-03-08 07:50:32,958 : INFO : worker thread finished; awaiting finish of 3 more threads\n",
            "2021-03-08 07:50:32,990 : INFO : worker thread finished; awaiting finish of 2 more threads\n",
            "2021-03-08 07:50:33,009 : INFO : worker thread finished; awaiting finish of 1 more threads\n",
            "2021-03-08 07:50:33,010 : INFO : worker thread finished; awaiting finish of 0 more threads\n",
            "2021-03-08 07:50:33,012 : INFO : EPOCH - 7 : training on 71702 raw words (38204 effective words) took 0.2s, 240692 effective words/s\n",
            "2021-03-08 07:50:33,143 : INFO : worker thread finished; awaiting finish of 3 more threads\n",
            "2021-03-08 07:50:33,148 : INFO : worker thread finished; awaiting finish of 2 more threads\n",
            "2021-03-08 07:50:33,177 : INFO : worker thread finished; awaiting finish of 1 more threads\n",
            "2021-03-08 07:50:33,182 : INFO : worker thread finished; awaiting finish of 0 more threads\n",
            "2021-03-08 07:50:33,183 : INFO : EPOCH - 8 : training on 71702 raw words (37809 effective words) took 0.2s, 238816 effective words/s\n",
            "2021-03-08 07:50:33,327 : INFO : worker thread finished; awaiting finish of 3 more threads\n",
            "2021-03-08 07:50:33,340 : INFO : worker thread finished; awaiting finish of 2 more threads\n",
            "2021-03-08 07:50:33,346 : INFO : worker thread finished; awaiting finish of 1 more threads\n",
            "2021-03-08 07:50:33,365 : INFO : worker thread finished; awaiting finish of 0 more threads\n",
            "2021-03-08 07:50:33,366 : INFO : EPOCH - 9 : training on 71702 raw words (38095 effective words) took 0.2s, 220964 effective words/s\n",
            "2021-03-08 07:50:33,487 : INFO : worker thread finished; awaiting finish of 3 more threads\n",
            "2021-03-08 07:50:33,527 : INFO : worker thread finished; awaiting finish of 2 more threads\n",
            "2021-03-08 07:50:33,540 : INFO : worker thread finished; awaiting finish of 1 more threads\n",
            "2021-03-08 07:50:33,543 : INFO : worker thread finished; awaiting finish of 0 more threads\n",
            "2021-03-08 07:50:33,544 : INFO : EPOCH - 10 : training on 71702 raw words (38087 effective words) took 0.2s, 227929 effective words/s\n",
            "2021-03-08 07:50:33,547 : INFO : training on a 717020 raw words (381057 effective words) took 1.8s, 216796 effective words/s\n",
            "2021-03-08 07:50:33,548 : INFO : precomputing L2-norms of word weight vectors\n"
          ],
          "name": "stderr"
        },
        {
          "output_type": "execute_result",
          "data": {
            "text/plain": [
              "[('android', 0.9293172359466553),\n",
              " ('app', 0.9139229655265808),\n",
              " ('working', 0.8813784122467041),\n",
              " ('ios', 0.8683618307113647),\n",
              " ('awards', 0.8666712045669556),\n",
              " ('schedule', 0.8640397787094116),\n",
              " ('calyp', 0.8637837171554565),\n",
              " ('version', 0.8605442047119141),\n",
              " ('come', 0.8594710230827332),\n",
              " ('foodspotting', 0.8564274311065674)]"
            ]
          },
          "metadata": {
            "tags": []
          },
          "execution_count": 10
        }
      ]
    }
  ]
}