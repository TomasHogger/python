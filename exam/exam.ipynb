{
 "cells": [
  {
   "cell_type": "markdown",
   "metadata": {
    "id": "qRuC9TWzfhnx"
   },
   "source": [
    "# Экзамен по курсу \"Аналитика данных на Python\""
   ]
  },
  {
   "cell_type": "markdown",
   "metadata": {
    "id": "QvAhR3txfhn1"
   },
   "source": [
    "Этот тест проверит Ваши навыки работы с таблицами данных с помощью библиотек pandas и numpy. Задания делятся на простые (⭐️), средние (⭐️⭐️) и сложные (⭐️⭐️⭐️). Решение простых заданий, как правило, требует одной-двух операций с таблицами, тогда как для более сложных может потребоваться несколько последовательных преобразований данных."
   ]
  },
  {
   "cell_type": "markdown",
   "metadata": {
    "id": "Frn9LjCFfhn6"
   },
   "source": [
    "##  Предыстория"
   ]
  },
  {
   "cell_type": "markdown",
   "metadata": {
    "id": "fQ1HxL0Wfhn-"
   },
   "source": [
    "Сегодня Ваш первый день работы в крупном интернет-магазине, который продаёт товары с доставкой по всему миру. Ваша первая задача – проанализировать базу данных покупок, совершённых в магазине за последние несколько лет. База содержит информацию об отдельных транзакциях, про каждую из которых известны номер инвойса (InvoiceNo), дата инвойса(InvoiceDate), код товара (StockCode), описание товара(Description), количество товара в транзакции (Quantity), стоимость единицы товара (UnitPrice), код покупателя (CustomerID), страна покупателя (Country).\n",
    "\n",
    "База выгружена для Вас в формате CSV: файл [```online-retail.csv```](https://drive.google.com/file/d/1O1oJtpEu-u6s6xTu7seQfnNcQjYCt0GF/view?usp=sharing)"
   ]
  },
  {
   "cell_type": "code",
   "execution_count": 1,
   "metadata": {
    "id": "rueTavqpfhoB"
   },
   "outputs": [],
   "source": [
    "import numpy as np\n",
    "import pandas as pd\n",
    "import matplotlib.pyplot as plt"
   ]
  },
  {
   "cell_type": "markdown",
   "metadata": {
    "id": "_And5NHkfhoU"
   },
   "source": [
    "## ⭐️ Вопрос 1\n",
    "\n",
    "Загрузите данные из файла online-retail.csv в переменную типа pandas DataFrame\n",
    "\n",
    "Подсказка: Используйте функцию из библиотеки pandas\n",
    "\n",
    "Какой символ-разделитель используется в этом файле?\n",
    "\n",
    "* Запятая \",\"\n",
    "* Двоеточие \":\"\n",
    "* Точка с запятой \";\"\n",
    "* Символ табуляции \"tab\""
   ]
  },
  {
   "cell_type": "markdown",
   "metadata": {
    "id": "l_C6GGXmfhoW"
   },
   "source": [
    "#### Решение"
   ]
  },
  {
   "cell_type": "code",
   "execution_count": 62,
   "metadata": {
    "id": "zabS9-nPfhoZ"
   },
   "outputs": [],
   "source": [
    "df = pd.read_csv('C://Users/Tem/Downloads/online-retail.csv', sep=\";\")"
   ]
  },
  {
   "cell_type": "code",
   "execution_count": 63,
   "metadata": {},
   "outputs": [
    {
     "data": {
      "text/plain": [
       "['9 InvoiceNo',\n",
       " '9 StockCode',\n",
       " '11 Description',\n",
       " '8 Quantity',\n",
       " '11 InvoiceDate',\n",
       " '9 UnitPrice',\n",
       " '10 CustomerID',\n",
       " '7 Country']"
      ]
     },
     "execution_count": 63,
     "metadata": {},
     "output_type": "execute_result"
    }
   ],
   "source": [
    "[str(len(x)) + \" \" + x for x in df.columns.to_list()]"
   ]
  },
  {
   "cell_type": "markdown",
   "metadata": {
    "id": "zoiRAf7Yfhon"
   },
   "source": [
    "## ⭐️ Вопрос 2\n",
    "\n",
    "Сколько строк в полученной таблице (не считая заголовков столбцов)?"
   ]
  },
  {
   "cell_type": "markdown",
   "metadata": {
    "id": "aWFyZcI9fhop"
   },
   "source": [
    "#### Решение"
   ]
  },
  {
   "cell_type": "code",
   "execution_count": 65,
   "metadata": {
    "id": "q86b9euEfhos"
   },
   "outputs": [
    {
     "data": {
      "text/plain": [
       "541911"
      ]
     },
     "execution_count": 65,
     "metadata": {},
     "output_type": "execute_result"
    }
   ],
   "source": [
    "df.shape[0]"
   ]
  },
  {
   "cell_type": "markdown",
   "metadata": {
    "id": "iqElS4zqfho1"
   },
   "source": [
    "## ⭐️ Вопрос 3\n",
    "\n",
    "Сколько столбцов в полученной таблице (не считая индекса)?"
   ]
  },
  {
   "cell_type": "markdown",
   "metadata": {
    "id": "HmYnaf2afho4"
   },
   "source": [
    "#### Решение"
   ]
  },
  {
   "cell_type": "code",
   "execution_count": 66,
   "metadata": {
    "id": "8ko0tmeNfho7"
   },
   "outputs": [
    {
     "data": {
      "text/plain": [
       "8"
      ]
     },
     "execution_count": 66,
     "metadata": {},
     "output_type": "execute_result"
    }
   ],
   "source": [
    "df.shape[1]"
   ]
  },
  {
   "cell_type": "markdown",
   "metadata": {
    "id": "YetDAhQzfhpF"
   },
   "source": [
    "## ⭐️ Вопрос 4\n",
    "\n",
    "Как называется столбец с самым коротким названием?"
   ]
  },
  {
   "cell_type": "markdown",
   "metadata": {
    "id": "1wTXQGb8fhpH"
   },
   "source": [
    "#### Решение"
   ]
  },
  {
   "cell_type": "code",
   "execution_count": 69,
   "metadata": {
    "id": "q3Sim0vXfhpJ"
   },
   "outputs": [
    {
     "data": {
      "text/plain": [
       "'Country'"
      ]
     },
     "execution_count": 69,
     "metadata": {},
     "output_type": "execute_result"
    }
   ],
   "source": [
    "sorted(df.columns.to_list(), key=lambda x: len(x))[0]"
   ]
  },
  {
   "cell_type": "markdown",
   "metadata": {
    "id": "qb7eYBMIfhpQ"
   },
   "source": [
    "## ⭐️ Вопрос 5\n",
    "\n",
    "В скольких столбцах встречаются пропущенные значения? (ответ - целое число)"
   ]
  },
  {
   "cell_type": "markdown",
   "metadata": {
    "id": "UmIR_gpOfhpR"
   },
   "source": [
    "#### Решение"
   ]
  },
  {
   "cell_type": "code",
   "execution_count": 7,
   "metadata": {
    "id": "rUPuUnUOfhpS"
   },
   "outputs": [
    {
     "data": {
      "text/plain": [
       "InvoiceNo      False\n",
       "StockCode      False\n",
       "Description     True\n",
       "Quantity       False\n",
       "InvoiceDate    False\n",
       "UnitPrice      False\n",
       "CustomerID      True\n",
       "Country        False\n",
       "dtype: bool"
      ]
     },
     "execution_count": 7,
     "metadata": {},
     "output_type": "execute_result"
    }
   ],
   "source": [
    "df.isna().any()"
   ]
  },
  {
   "cell_type": "markdown",
   "metadata": {
    "id": "1vTefL-QfhpY"
   },
   "source": [
    "## ⭐️ Вопрос 6\n",
    "\n",
    "Сколько пропущенных значений в столбце CustomerID? (ответ - целое число)"
   ]
  },
  {
   "cell_type": "markdown",
   "metadata": {
    "id": "Gz4hWV3cfhpa"
   },
   "source": [
    "#### Решение"
   ]
  },
  {
   "cell_type": "code",
   "execution_count": 70,
   "metadata": {
    "id": "yc2USQa2fhpb"
   },
   "outputs": [
    {
     "data": {
      "text/plain": [
       "135080"
      ]
     },
     "execution_count": 70,
     "metadata": {},
     "output_type": "execute_result"
    }
   ],
   "source": [
    "df[df['CustomerID'].isnull()].shape[0]"
   ]
  },
  {
   "cell_type": "markdown",
   "metadata": {
    "id": "R8z3h8U-fhpj"
   },
   "source": [
    "## ⭐️⭐️ Вопрос 7\n",
    "\n",
    "Посмотрим, данные за какой исторический период у нас есть. \n",
    "\n",
    "Данные за какой самый ранний и за какой самый поздний годы содержатся в датасете? В ответе укажите два целых числа через запятую."
   ]
  },
  {
   "cell_type": "markdown",
   "metadata": {
    "id": "tfgx2MQofhpk"
   },
   "source": [
    "#### Решение"
   ]
  },
  {
   "cell_type": "code",
   "execution_count": 72,
   "metadata": {
    "id": "tSDJk8Amfhpl"
   },
   "outputs": [
    {
     "data": {
      "text/plain": [
       "'2010-12-01 08:26:00'"
      ]
     },
     "execution_count": 72,
     "metadata": {},
     "output_type": "execute_result"
    }
   ],
   "source": [
    "df.InvoiceDate.min()"
   ]
  },
  {
   "cell_type": "code",
   "execution_count": 10,
   "metadata": {},
   "outputs": [
    {
     "data": {
      "text/plain": [
       "'2011-12-09 12:52:00'"
      ]
     },
     "execution_count": 10,
     "metadata": {},
     "output_type": "execute_result"
    }
   ],
   "source": [
    "df.InvoiceDate.max()"
   ]
  },
  {
   "cell_type": "markdown",
   "metadata": {
    "id": "INuGGvCZfhps"
   },
   "source": [
    "## ⭐️ Вопрос 8\n",
    "\n",
    "Каковы минимальная и максимальная цена товаров (UnitPrice)? Перечислите через запятую. Цена в этом задании может принимать отрицательные значения."
   ]
  },
  {
   "cell_type": "markdown",
   "metadata": {
    "id": "E8j9vHa2fhpt"
   },
   "source": [
    "#### Решение"
   ]
  },
  {
   "cell_type": "code",
   "execution_count": 11,
   "metadata": {},
   "outputs": [
    {
     "data": {
      "text/plain": [
       "-11062.06"
      ]
     },
     "execution_count": 11,
     "metadata": {},
     "output_type": "execute_result"
    }
   ],
   "source": [
    "df.UnitPrice.min()"
   ]
  },
  {
   "cell_type": "code",
   "execution_count": 12,
   "metadata": {
    "id": "PTFRTpAXfhpu"
   },
   "outputs": [
    {
     "data": {
      "text/plain": [
       "38970.0"
      ]
     },
     "execution_count": 12,
     "metadata": {},
     "output_type": "execute_result"
    }
   ],
   "source": [
    "df.UnitPrice.max()"
   ]
  },
  {
   "cell_type": "markdown",
   "metadata": {
    "id": "20rRayIcfhp0"
   },
   "source": [
    "## ⭐️ Вопрос 9\n",
    "\n",
    "В таблице оказались товары с отрицательными ценами! Это явно какая-то ошибка. Какое описание (Description) у таких транзакций? Перечислите все варианты через запятую, отсортировав строки по алфавиту."
   ]
  },
  {
   "cell_type": "markdown",
   "metadata": {
    "id": "j9WFSD15fhp1"
   },
   "source": [
    "#### Решение"
   ]
  },
  {
   "cell_type": "code",
   "execution_count": 84,
   "metadata": {
    "id": "Vta8JNHKfhp3"
   },
   "outputs": [
    {
     "data": {
      "text/plain": [
       "{'Adjust bad debt'}"
      ]
     },
     "execution_count": 84,
     "metadata": {},
     "output_type": "execute_result"
    }
   ],
   "source": [
    "set(sorted(df[df.UnitPrice < 0].Description.to_list()))"
   ]
  },
  {
   "cell_type": "markdown",
   "metadata": {
    "id": "H1EJKLjAfhp9"
   },
   "source": [
    "## ⭐️ Вопрос 10\n",
    "\n",
    "Поищем ещё возможные проблемы с данными. Как насчёт товаров с нулевыми ценами? \n",
    "\n",
    "Сколько в таблице транзакций с нулевой ценой? А с пропусками на месте цены? \n",
    "\n",
    "Перечислите два целых числа через запятую."
   ]
  },
  {
   "cell_type": "markdown",
   "metadata": {
    "id": "xkDFtXxLfhp-"
   },
   "source": [
    "#### Решение"
   ]
  },
  {
   "cell_type": "code",
   "execution_count": 87,
   "metadata": {},
   "outputs": [
    {
     "data": {
      "text/plain": [
       "0"
      ]
     },
     "execution_count": 87,
     "metadata": {},
     "output_type": "execute_result"
    }
   ],
   "source": [
    "df[df.UnitPrice.isnull()].shape[0]"
   ]
  },
  {
   "cell_type": "code",
   "execution_count": 86,
   "metadata": {
    "id": "_liV7v63fhp_"
   },
   "outputs": [
    {
     "data": {
      "text/plain": [
       "2515"
      ]
     },
     "execution_count": 86,
     "metadata": {},
     "output_type": "execute_result"
    }
   ],
   "source": [
    "df[df.UnitPrice == 0].shape[0]"
   ]
  },
  {
   "cell_type": "markdown",
   "metadata": {
    "id": "Q08_ueCWfhqH"
   },
   "source": [
    "## ⭐️⭐️ Вопрос 11\n",
    "\n",
    "Для дальнейшего анализа поведения покупателей нам понадобится набор данных, в которых у каждой транзакции корректно указана цена, количество единиц товара (Quantity) и id покупателя (CustomerID). Удалите из таблицы все строки, в которых цена не превосходит 0 или пропущена, или количество единиц товара не превосходит 0 или пропущено, или в которых пропущен id покупателя. \n",
    "\n",
    "Сколько строк осталось?"
   ]
  },
  {
   "cell_type": "markdown",
   "metadata": {
    "id": "0zs9ntOGfhqI"
   },
   "source": [
    "#### Решение"
   ]
  },
  {
   "cell_type": "code",
   "execution_count": 90,
   "metadata": {
    "id": "46HTX2BJfhqJ"
   },
   "outputs": [
    {
     "data": {
      "text/plain": [
       "397886"
      ]
     },
     "execution_count": 90,
     "metadata": {},
     "output_type": "execute_result"
    }
   ],
   "source": [
    "df = df[(df.UnitPrice > 0) & (df.Quantity > 0) & (df.CustomerID.notna())]\n",
    "df.shape[0]"
   ]
  },
  {
   "cell_type": "markdown",
   "metadata": {
    "id": "807cvilFfhqO"
   },
   "source": [
    "## Внимание! \n",
    "\n",
    "### Везде далее мы работаем с очищенной таблицей, полученной в Вопросе 11."
   ]
  },
  {
   "cell_type": "markdown",
   "metadata": {
    "id": "4dnjXB-qfhqP"
   },
   "source": [
    "## ⭐️⭐️ Вопрос 12\n",
    "\n",
    "В таблице для каждой транзакции указаны цена за единицу товара (UnitPrice) и количество единиц товара (Quantity). Вычислите для каждой транзакции её **полную стоимость** и сохраните в новом столбце Price, который добавьте в таблицу. \n",
    "\n",
    "Каковы минимальная и максимальная полная стоимость транзакций? Перечислите через запятую, округлив до целых чисел."
   ]
  },
  {
   "cell_type": "markdown",
   "metadata": {
    "id": "3SFNrkb-fhqQ"
   },
   "source": [
    "#### Решение"
   ]
  },
  {
   "cell_type": "code",
   "execution_count": 94,
   "metadata": {
    "id": "iIIRF_p-fhqS"
   },
   "outputs": [
    {
     "data": {
      "text/plain": [
       "0.001"
      ]
     },
     "execution_count": 94,
     "metadata": {},
     "output_type": "execute_result"
    }
   ],
   "source": [
    "df['Price'] = df.UnitPrice * df.Quantity\n",
    "df.Price.min()"
   ]
  },
  {
   "cell_type": "code",
   "execution_count": 95,
   "metadata": {},
   "outputs": [
    {
     "data": {
      "text/plain": [
       "168469.6"
      ]
     },
     "execution_count": 95,
     "metadata": {},
     "output_type": "execute_result"
    }
   ],
   "source": [
    "df.Price.max()"
   ]
  },
  {
   "cell_type": "markdown",
   "metadata": {
    "id": "iXwEUbpAfhqX"
   },
   "source": [
    "## ⭐️⭐️ Вопрос 13\n",
    "\n",
    "В нашей базе данных каждая покупка представлена одной или несколькими транзакциями. Покупка однозначно определяется своим номером инвойса (InvoiceNo). Транзакции, относящиеся к одной покупке, имеют один и тот же InvoiceNo. \n",
    "\n",
    "Стоимость всей покупки равна сумме полных стоимостей транзакций, входящих в неё. Найдите стоимости трёх самых дорогих покупок. Перечислите через запятую в порядке убывания, округлив до целых чисел."
   ]
  },
  {
   "cell_type": "markdown",
   "metadata": {
    "id": "U-uH-V9BfhqZ"
   },
   "source": [
    "#### Решение"
   ]
  },
  {
   "cell_type": "code",
   "execution_count": 96,
   "metadata": {
    "id": "7eRtSDp0fhqZ"
   },
   "outputs": [
    {
     "data": {
      "text/plain": [
       "InvoiceNo\n",
       "581483    168469.6\n",
       "541431     77183.6\n",
       "556444     38970.0\n",
       "Name: Price, dtype: float64"
      ]
     },
     "execution_count": 96,
     "metadata": {},
     "output_type": "execute_result"
    }
   ],
   "source": [
    "df.groupby('InvoiceNo').Price.sum().sort_values(ascending=False).head(3)"
   ]
  },
  {
   "cell_type": "markdown",
   "metadata": {
    "id": "OOFeUBI4fhqd"
   },
   "source": [
    "## ⭐️⭐️ Вопрос 14\n",
    "\n",
    "Какой товар составил наибольшую выручку? В ответе укажите описание товара (дословно строку из соответствующего поля в столбце Description)."
   ]
  },
  {
   "cell_type": "markdown",
   "metadata": {
    "id": "eHIxsT_Mfhqf"
   },
   "source": [
    "#### Решение"
   ]
  },
  {
   "cell_type": "code",
   "execution_count": 101,
   "metadata": {
    "id": "9wCt8Oz4fhqf"
   },
   "outputs": [
    {
     "data": {
      "text/plain": [
       "'PAPER CRAFT , LITTLE BIRDIE'"
      ]
     },
     "execution_count": 101,
     "metadata": {},
     "output_type": "execute_result"
    }
   ],
   "source": [
    "list(df.sort_values('Price', ascending=False).Description)[0]"
   ]
  },
  {
   "cell_type": "markdown",
   "metadata": {
    "id": "x7takqgnfhqj"
   },
   "source": [
    "## ⭐️⭐️ Вопрос 15\n",
    "\n",
    "Создайте новую таблицу purchases, в которой каждая строка будет соответствовать отдельной покупке, со столбцами \n",
    "InvoiceNo, InvoiceDate, Price, CustomerID, Country.\n",
    "\n",
    "Поскольку дата InvoiceDate может быть отличаться для разных транзакций внутри одной покупки, при группировке возьмите самую раннюю из дат. Также отсортируйте её по датам по возрастанию.\n",
    "\n",
    "Сколько получилось строк?"
   ]
  },
  {
   "cell_type": "markdown",
   "metadata": {
    "id": "LDLweA0Yfhqj"
   },
   "source": [
    "#### Решение"
   ]
  },
  {
   "cell_type": "code",
   "execution_count": 103,
   "metadata": {
    "id": "jkjImvCXfhql"
   },
   "outputs": [
    {
     "data": {
      "text/plain": [
       "18533"
      ]
     },
     "execution_count": 103,
     "metadata": {},
     "output_type": "execute_result"
    }
   ],
   "source": [
    "purchases = pd.DataFrame(columns=['InvoiceNo', 'InvoiceDate', 'Price', 'CustomerID', 'Country'])\n",
    "group = df.groupby('InvoiceNo')\n",
    "purchases.InvoiceNo = group.groups.keys()\n",
    "purchases.Price = group.Price.sum().to_list()\n",
    "purchases.InvoiceDate = group.InvoiceDate.min().to_list()\n",
    "purchases.CustomerID = group.CustomerID.first().to_list()\n",
    "purchases.Country = group.Country.first().to_list()\n",
    "purchases = purchases.sort_values('InvoiceDate')\n",
    "purchases.shape[0]"
   ]
  },
  {
   "cell_type": "markdown",
   "metadata": {
    "id": "wsDjduFpfhqp"
   },
   "source": [
    "## ⭐️⭐️ Вопрос 16\n",
    "\n",
    "Исследуем, растут или убывают покупки наших клиентов после их первой покупки на сайте.\n",
    "Найдите среднюю цену первых покупок клиентов: для каждого клиента возьмите его первую покупку и усредните эти значения. Найдите среднюю цену покупок в целом. Округлите эти числа до целых и перечислите в этом порядке через запятую."
   ]
  },
  {
   "cell_type": "markdown",
   "metadata": {
    "id": "rzpArrmkfhqq"
   },
   "source": [
    "#### Решение"
   ]
  },
  {
   "cell_type": "code",
   "execution_count": 106,
   "metadata": {
    "id": "4fvR_p2Bfhqq"
   },
   "outputs": [
    {
     "data": {
      "text/plain": [
       "425.44998686030357"
      ]
     },
     "execution_count": 106,
     "metadata": {},
     "output_type": "execute_result"
    }
   ],
   "source": [
    "p_copy = purchases.copy()\n",
    "p_copy.InvoiceDate = pd.to_datetime(p_copy.InvoiceDate)\n",
    "p_copy = p_copy.loc[p_copy.groupby('CustomerID').InvoiceDate.idxmin()]\n",
    "p_copy.Price.mean()"
   ]
  },
  {
   "cell_type": "code",
   "execution_count": 107,
   "metadata": {},
   "outputs": [
    {
     "data": {
      "text/plain": [
       "480.8420495332635"
      ]
     },
     "execution_count": 107,
     "metadata": {},
     "output_type": "execute_result"
    }
   ],
   "source": [
    "purchases.Price.mean()"
   ]
  },
  {
   "cell_type": "markdown",
   "metadata": {
    "id": "Qxcpz-aVfhqv"
   },
   "source": [
    "## ⭐️⭐️⭐️ Вопрос 17\n",
    "\n",
    "В какой день недели было наибольшее число покупок? В ответе укажите русское название дня недели, начинающееся с заглавной буквы.\n",
    "\n",
    "\n",
    "Подсказка: \n",
    "* Преобразуйте тип данных в столбце InvoiceDate таблицы purchases из строк в datetime. \n",
    "* Для каждой покупки вычислите день недели, в который она была совершена. Сохраните в новый столбец.\n",
    "* Сгруппируйте таблицу по дням недели."
   ]
  },
  {
   "cell_type": "markdown",
   "metadata": {
    "id": "jlX_adwbfhqw"
   },
   "source": [
    "#### Решение"
   ]
  },
  {
   "cell_type": "code",
   "execution_count": 108,
   "metadata": {
    "id": "WTNLys9dfhqw"
   },
   "outputs": [
    {
     "data": {
      "text/html": [
       "<div>\n",
       "<style scoped>\n",
       "    .dataframe tbody tr th:only-of-type {\n",
       "        vertical-align: middle;\n",
       "    }\n",
       "\n",
       "    .dataframe tbody tr th {\n",
       "        vertical-align: top;\n",
       "    }\n",
       "\n",
       "    .dataframe thead th {\n",
       "        text-align: right;\n",
       "    }\n",
       "</style>\n",
       "<table border=\"1\" class=\"dataframe\">\n",
       "  <thead>\n",
       "    <tr style=\"text-align: right;\">\n",
       "      <th></th>\n",
       "      <th>InvoiceNo</th>\n",
       "      <th>InvoiceDate</th>\n",
       "      <th>Price</th>\n",
       "      <th>CustomerID</th>\n",
       "      <th>Country</th>\n",
       "    </tr>\n",
       "    <tr>\n",
       "      <th>InvoiceDateWeekDay</th>\n",
       "      <th></th>\n",
       "      <th></th>\n",
       "      <th></th>\n",
       "      <th></th>\n",
       "      <th></th>\n",
       "    </tr>\n",
       "  </thead>\n",
       "  <tbody>\n",
       "    <tr>\n",
       "      <td>0</td>\n",
       "      <td>2863</td>\n",
       "      <td>2863</td>\n",
       "      <td>2863</td>\n",
       "      <td>2863</td>\n",
       "      <td>2863</td>\n",
       "    </tr>\n",
       "    <tr>\n",
       "      <td>1</td>\n",
       "      <td>3184</td>\n",
       "      <td>3184</td>\n",
       "      <td>3184</td>\n",
       "      <td>3184</td>\n",
       "      <td>3184</td>\n",
       "    </tr>\n",
       "    <tr>\n",
       "      <td>2</td>\n",
       "      <td>3455</td>\n",
       "      <td>3455</td>\n",
       "      <td>3455</td>\n",
       "      <td>3455</td>\n",
       "      <td>3455</td>\n",
       "    </tr>\n",
       "    <tr>\n",
       "      <td>3</td>\n",
       "      <td>4032</td>\n",
       "      <td>4032</td>\n",
       "      <td>4032</td>\n",
       "      <td>4032</td>\n",
       "      <td>4032</td>\n",
       "    </tr>\n",
       "    <tr>\n",
       "      <td>4</td>\n",
       "      <td>2830</td>\n",
       "      <td>2830</td>\n",
       "      <td>2830</td>\n",
       "      <td>2830</td>\n",
       "      <td>2830</td>\n",
       "    </tr>\n",
       "    <tr>\n",
       "      <td>6</td>\n",
       "      <td>2169</td>\n",
       "      <td>2169</td>\n",
       "      <td>2169</td>\n",
       "      <td>2169</td>\n",
       "      <td>2169</td>\n",
       "    </tr>\n",
       "  </tbody>\n",
       "</table>\n",
       "</div>"
      ],
      "text/plain": [
       "                    InvoiceNo  InvoiceDate  Price  CustomerID  Country\n",
       "InvoiceDateWeekDay                                                    \n",
       "0                        2863         2863   2863        2863     2863\n",
       "1                        3184         3184   3184        3184     3184\n",
       "2                        3455         3455   3455        3455     3455\n",
       "3                        4032         4032   4032        4032     4032\n",
       "4                        2830         2830   2830        2830     2830\n",
       "6                        2169         2169   2169        2169     2169"
      ]
     },
     "execution_count": 108,
     "metadata": {},
     "output_type": "execute_result"
    }
   ],
   "source": [
    "p_copy = purchases.copy()\n",
    "p_copy.InvoiceDate = pd.to_datetime(p_copy.InvoiceDate)\n",
    "p_copy['InvoiceDateWeekDay'] = [x.weekday() for x in p_copy.InvoiceDate]\n",
    "p_copy.groupby('InvoiceDateWeekDay').count()"
   ]
  },
  {
   "cell_type": "markdown",
   "metadata": {
    "id": "G84tAqVTfhq1"
   },
   "source": [
    "## ⭐️⭐️⭐️ Вопрос 18\n",
    "\n",
    "В какой год и месяц выручка была максимальной?\n",
    "\n",
    "Подсказка: \n",
    "* Преобразуйте тип данных в столбце InvoiceDate таблицы purchases из строк в datetime. \n",
    "* Для каждой покупки вычислите год и месяц, в которые она была совершена. Сохраните в новые столбцы.\n",
    "* Сгруппируйте таблицу по новым столбцам\n",
    "\n",
    "В ответе укажите два целых числа через запятую: год, месяц"
   ]
  },
  {
   "cell_type": "markdown",
   "metadata": {
    "id": "k7b_70CIfhq2"
   },
   "source": [
    "#### Решение"
   ]
  },
  {
   "cell_type": "code",
   "execution_count": 109,
   "metadata": {
    "id": "C7YosvXBfhq2"
   },
   "outputs": [
    {
     "data": {
      "text/plain": [
       "InvoiceDateYear\n",
       "2010     572713.890\n",
       "2011    8338731.814\n",
       "Name: Price, dtype: float64"
      ]
     },
     "execution_count": 109,
     "metadata": {},
     "output_type": "execute_result"
    }
   ],
   "source": [
    "p_copy = purchases.copy()\n",
    "p_copy.InvoiceDate = pd.to_datetime(p_copy.InvoiceDate)\n",
    "p_copy['InvoiceDateYear'] = [x.year for x in p_copy.InvoiceDate]\n",
    "p_copy.groupby('InvoiceDateYear').Price.sum()"
   ]
  },
  {
   "cell_type": "code",
   "execution_count": 110,
   "metadata": {},
   "outputs": [
    {
     "data": {
      "text/plain": [
       "InvoiceDateMonth\n",
       "1      569445.040\n",
       "2      447137.350\n",
       "3      595500.760\n",
       "4      469200.361\n",
       "5      678594.560\n",
       "6      661213.690\n",
       "7      600091.011\n",
       "8      645343.900\n",
       "9      952838.382\n",
       "10    1039318.790\n",
       "11    1161817.380\n",
       "12    1090944.480\n",
       "Name: Price, dtype: float64"
      ]
     },
     "execution_count": 110,
     "metadata": {},
     "output_type": "execute_result"
    }
   ],
   "source": [
    "p_copy = purchases.copy()\n",
    "p_copy.InvoiceDate = pd.to_datetime(p_copy.InvoiceDate)\n",
    "p_copy['InvoiceDateMonth'] = [x.month for x in p_copy.InvoiceDate]\n",
    "p_copy.groupby('InvoiceDateMonth').Price.sum()"
   ]
  },
  {
   "cell_type": "markdown",
   "metadata": {
    "id": "sU7-9E2nfhq4"
   },
   "source": [
    "## ⭐️⭐️⭐️ Вопрос 19\n",
    "\n",
    "Магазин продаёт товары покупателям из разных стран (Country). В какой стране был наибольший процентный рост месячных продаж, если сравнить март 2011 и сентябрь 2011? Сколько процентов составил этот рост? В расчёт брать только страны, в которых были ненулевые продажи в обоих этих месяцах. В ответе укажите через запятую название страны и целое число (процентный рост, округлённый до целого числа)."
   ]
  },
  {
   "cell_type": "markdown",
   "metadata": {
    "id": "UyC1iE0nfhq5"
   },
   "source": [
    "#### Решение"
   ]
  },
  {
   "cell_type": "code",
   "execution_count": 115,
   "metadata": {
    "id": "BB0tn1a_fhq5"
   },
   "outputs": [
    {
     "data": {
      "text/plain": [
       "Country\n",
       "Australia               0.296489\n",
       "Austria                      NaN\n",
       "Belgium                 1.255383\n",
       "Canada                       NaN\n",
       "Channel Islands         0.377209\n",
       "Cyprus                  0.209241\n",
       "Denmark                 1.148573\n",
       "EIRE                    1.891428\n",
       "Finland                 0.186202\n",
       "France                  1.605810\n",
       "Germany                 1.256973\n",
       "Greece                       NaN\n",
       "Italy                   0.154859\n",
       "Japan                   2.292025\n",
       "Netherlands             1.201672\n",
       "Norway                  6.859141\n",
       "Poland                  1.665460\n",
       "Portugal                0.538632\n",
       "Spain                   0.967573\n",
       "Sweden                  0.969205\n",
       "Switzerland             4.429862\n",
       "United Arab Emirates         NaN\n",
       "United Kingdom          1.705442\n",
       "Name: Price, dtype: float64"
      ]
     },
     "execution_count": 115,
     "metadata": {},
     "output_type": "execute_result"
    }
   ],
   "source": [
    "p_copy = purchases.copy()\n",
    "p_copy.InvoiceDate = pd.to_datetime(p_copy.InvoiceDate)\n",
    "p_copy['InvoiceDateYear'] = [x.year for x in p_copy.InvoiceDate]\n",
    "p_copy['InvoiceDateMonth'] = [x.month for x in p_copy.InvoiceDate]\n",
    "p_copy = p_copy[p_copy.InvoiceDateYear == 2011]\n",
    "p_copy[p_copy.InvoiceDateMonth == 9].groupby('Country').Price.sum() / p_copy[p_copy.InvoiceDateMonth == 3].groupby('Country').Price.sum()"
   ]
  },
  {
   "cell_type": "markdown",
   "metadata": {
    "id": "ZvCX0qZufhq7"
   },
   "source": [
    "## ⭐️⭐️⭐️ Вопрос 20\n",
    "\n",
    "Большинство клиентов все свои покупки делают из одной и той же страны. Выясним, однако, насколько велика доля путешественников среди клиентов. \n",
    "Сколько клиентов сделали покупки по крайней мере из двух разных стран? (ответ - целое число)"
   ]
  },
  {
   "cell_type": "markdown",
   "metadata": {
    "id": "2ujHtufofhq8"
   },
   "source": [
    "#### Решение"
   ]
  },
  {
   "cell_type": "code",
   "execution_count": 112,
   "metadata": {
    "id": "2AhOPHJQfhq8"
   },
   "outputs": [
    {
     "data": {
      "text/plain": [
       "8"
      ]
     },
     "execution_count": 112,
     "metadata": {},
     "output_type": "execute_result"
    }
   ],
   "source": [
    "purchases.groupby('CustomerID').filter(lambda x: x.Country.nunique() > 1).CustomerID.nunique()"
   ]
  },
  {
   "cell_type": "markdown",
   "metadata": {
    "id": "pQrKQuPEfhrA"
   },
   "source": [
    "## ⭐️⭐️⭐️ Вопрос 21\n",
    "\n",
    "Мы запускаем в Италии рекомендательную систему \"С этим товаром часто покупают...\", и для этого хотим узнать, какие различные товары чаще всего встречаются в одной покупке из этой страны. Определите, какая пара различных товаров чаще всего встречается в различных покупках с ```Country=='Italy'```, и в скольких покупках это происходит. Одинаковые товары или нет, проверяйте по равенству поля Description. \n",
    "\n",
    "(ответ: название (Description) первого товара, название (Description) второго товара, целое число)"
   ]
  },
  {
   "cell_type": "markdown",
   "metadata": {
    "id": "fiV0QEWJfhrA"
   },
   "source": [
    "#### Решение"
   ]
  },
  {
   "cell_type": "code",
   "execution_count": 113,
   "metadata": {
    "id": "HDa1ruzgfhrA"
   },
   "outputs": [],
   "source": [
    "pair_of_desc = dict()\n",
    "\n",
    "for name, group in df[df.Country == 'Italy'].groupby('InvoiceNo'):\n",
    "    list_desc = sorted(list(group.Description))\n",
    "    for index, desc1 in enumerate(list_desc):\n",
    "        if desc1 not in pair_of_desc:\n",
    "            pair_of_desc[desc1] = dict()\n",
    "        \n",
    "        list_desc2 = list_desc[index + 1:]\n",
    "        \n",
    "        for desc2 in list_desc2:\n",
    "            d = pair_of_desc[desc1]\n",
    "            if desc2 in d:\n",
    "                d[desc2] += 1\n",
    "            else:\n",
    "                d[desc2] = 1"
   ]
  },
  {
   "cell_type": "code",
   "execution_count": 114,
   "metadata": {},
   "outputs": [
    {
     "data": {
      "text/plain": [
       "{'TOY TIDY PINK POLKADOT ||| TOY TIDY SPACEBOY': 6,\n",
       " 'PLASTERS IN TIN CIRCUS PARADE ||| PLASTERS IN TIN WOODLAND ANIMALS': 5,\n",
       " 'POSTAGE ||| REGENCY CAKESTAND 3 TIER': 4,\n",
       " 'POSTAGE ||| RECYCLING BAG RETROSPOT': 4,\n",
       " 'DOORMAT AIRMAIL ||| DOORMAT UNION FLAG': 4,\n",
       " 'DOORMAT AIRMAIL ||| DOORMAT WELCOME TO OUR HOME': 4,\n",
       " 'PLASTERS IN TIN CIRCUS PARADE ||| POSTAGE': 4,\n",
       " 'PLASTERS IN TIN CIRCUS PARADE ||| SET OF 20 KIDS COOKIE CUTTERS': 4,\n",
       " 'RECYCLING BAG RETROSPOT ||| TOY TIDY PINK POLKADOT': 4,\n",
       " 'RECYCLING BAG RETROSPOT ||| TOY TIDY SPACEBOY': 4,\n",
       " 'LUNCH BAG CARS BLUE ||| LUNCH BAG WOODLAND': 4,\n",
       " 'RETROSPOT TEA SET CERAMIC 11 PC ||| SET OF 20 KIDS COOKIE CUTTERS': 4,\n",
       " 'CHILDRENS APRON APPLES DESIGN ||| SET OF 20 KIDS COOKIE CUTTERS': 4,\n",
       " 'CHILDRENS APRON APPLES DESIGN ||| TOY TIDY PINK POLKADOT': 4,\n",
       " 'CHILDRENS APRON APPLES DESIGN ||| TOY TIDY SPACEBOY': 4,\n",
       " 'DOORMAT UNION FLAG ||| DOORMAT WELCOME TO OUR HOME': 4,\n",
       " 'DOORMAT UNION FLAG ||| SET OF 3 CAKE TINS PANTRY DESIGN': 4,\n",
       " 'DOORMAT WELCOME TO OUR HOME ||| SET OF 3 CAKE TINS PANTRY DESIGN': 4,\n",
       " 'GINGERBREAD MAN COOKIE CUTTER ||| RETROSPOT TEA SET CERAMIC 11 PC': 4,\n",
       " 'GINGERBREAD MAN COOKIE CUTTER ||| SET OF 20 KIDS COOKIE CUTTERS': 4,\n",
       " 'JUMBO STORAGE BAG SUKI ||| ROUND SNACK BOXES SET OF4 WOODLAND': 4,\n",
       " 'MINT KITCHEN SCALES ||| SET OF 3 CAKE TINS PANTRY DESIGN': 4,\n",
       " 'RETROSPOT LARGE MILK JUG ||| SET OF 3 CAKE TINS PANTRY DESIGN': 4,\n",
       " 'SET OF TEA COFFEE SUGAR TINS PANTRY ||| VINTAGE CREAM DOG FOOD CONTAINER': 4,\n",
       " 'BREAD BIN DINER STYLE IVORY ||| DOORMAT UNION FLAG': 4,\n",
       " 'BREAD BIN DINER STYLE IVORY ||| JAM MAKING SET WITH JARS': 4,\n",
       " 'BREAD BIN DINER STYLE IVORY ||| SET OF 3 CAKE TINS PANTRY DESIGN': 4,\n",
       " 'JAM MAKING SET WITH JARS ||| SET OF 3 CAKE TINS PANTRY DESIGN': 4,\n",
       " 'POSTAGE ||| SET OF 3 CAKE TINS PANTRY DESIGN': 3,\n",
       " 'POSTAGE ||| RETROSPOT TEA SET CERAMIC 11 PC': 3,\n",
       " 'POSTAGE ||| SWEETHEART CAKESTAND 3 TIER': 3,\n",
       " 'SET OF 3 CAKE TINS PANTRY DESIGN ||| SET OF 6 SPICE TINS PANTRY DESIGN': 3,\n",
       " 'SET OF 3 CAKE TINS PANTRY DESIGN ||| SET OF TEA COFFEE SUGAR TINS PANTRY': 3,\n",
       " 'SET OF 3 CAKE TINS PANTRY DESIGN ||| VINTAGE CREAM DOG FOOD CONTAINER': 3,\n",
       " 'SET OF 3 CAKE TINS PANTRY DESIGN ||| VINTAGE CREAM CAT FOOD CONTAINER': 3,\n",
       " 'SET OF 3 CAKE TINS PANTRY DESIGN ||| WHITE HANGING HEART T-LIGHT HOLDER': 3,\n",
       " 'DOORMAT AIRMAIL ||| SET OF 3 CAKE TINS PANTRY DESIGN': 3,\n",
       " 'FELTCRAFT DOLL MOLLY ||| FELTCRAFT DOLL ROSIE': 3,\n",
       " 'FELTCRAFT DOLL MOLLY ||| RECYCLING BAG RETROSPOT': 3,\n",
       " 'PLASTERS IN TIN CIRCUS PARADE ||| RETROSPOT TEA SET CERAMIC 11 PC': 3,\n",
       " 'PLASTERS IN TIN CIRCUS PARADE ||| ROUND SNACK BOXES SET OF4 WOODLAND': 3,\n",
       " 'PLASTERS IN TIN WOODLAND ANIMALS ||| POSTAGE': 3,\n",
       " 'PLASTERS IN TIN WOODLAND ANIMALS ||| RETROSPOT TEA SET CERAMIC 11 PC': 3,\n",
       " 'PLASTERS IN TIN WOODLAND ANIMALS ||| ROUND SNACK BOXES SET OF4 WOODLAND': 3,\n",
       " 'PLASTERS IN TIN WOODLAND ANIMALS ||| SET OF 20 KIDS COOKIE CUTTERS': 3,\n",
       " 'RECYCLING BAG RETROSPOT ||| RETROSPOT TEA SET CERAMIC 11 PC': 3,\n",
       " 'FAIRY TALE COTTAGE NIGHTLIGHT ||| PICTURE DOMINOES': 3,\n",
       " 'FAIRY TALE COTTAGE NIGHTLIGHT ||| RETROSPOT TEA SET CERAMIC 11 PC': 3,\n",
       " 'FAIRY TALE COTTAGE NIGHTLIGHT ||| TOY TIDY PINK POLKADOT': 3,\n",
       " 'FAIRY TALE COTTAGE NIGHTLIGHT ||| TOY TIDY SPACEBOY': 3,\n",
       " 'PHOTO CLIP LINE ||| RETROSPOT TEA SET CERAMIC 11 PC': 3,\n",
       " 'PHOTO CLIP LINE ||| TOY TIDY PINK POLKADOT': 3,\n",
       " 'PHOTO CLIP LINE ||| TOY TIDY SPACEBOY': 3,\n",
       " 'PICTURE DOMINOES ||| TOY TIDY PINK POLKADOT': 3,\n",
       " 'PICTURE DOMINOES ||| TOY TIDY SPACEBOY': 3,\n",
       " 'RETROSPOT TEA SET CERAMIC 11 PC ||| TOY TIDY PINK POLKADOT': 3,\n",
       " 'RETROSPOT TEA SET CERAMIC 11 PC ||| TOY TIDY SPACEBOY': 3,\n",
       " 'RETROSPOT TEA SET CERAMIC 11 PC ||| ROUND SNACK BOXES SET OF4 WOODLAND': 3,\n",
       " 'DOORMAT SPOTTY HOME SWEET HOME ||| RECIPE BOX RETROSPOT': 3,\n",
       " 'DOORMAT SPOTTY HOME SWEET HOME ||| DOORMAT UNION FLAG': 3,\n",
       " 'JAM MAKING SET PRINTED ||| PLASTERS IN TIN SKULLS': 3,\n",
       " 'CHILDRENS APRON APPLES DESIGN ||| JUMBO BAG TOYS': 3,\n",
       " 'CHILDRENS APRON APPLES DESIGN ||| JUMBO BAG WOODLAND ANIMALS': 3,\n",
       " 'CHILDRENS APRON APPLES DESIGN ||| PLASTERS IN TIN CIRCUS PARADE': 3,\n",
       " 'CHILDRENS APRON APPLES DESIGN ||| RECYCLING BAG RETROSPOT': 3,\n",
       " 'CHILDRENS APRON APPLES DESIGN ||| FAIRY TALE COTTAGE NIGHTLIGHT': 3,\n",
       " 'CHILDRENS APRON APPLES DESIGN ||| GINGERBREAD MAN COOKIE CUTTER': 3,\n",
       " 'CHILDRENS APRON APPLES DESIGN ||| JUMBO STORAGE BAG SUKI': 3,\n",
       " 'CHILDRENS APRON APPLES DESIGN ||| RETROSPOT TEA SET CERAMIC 11 PC': 3,\n",
       " 'CHILDRENS APRON APPLES DESIGN ||| ROUND SNACK BOXES SET OF4 WOODLAND': 3,\n",
       " 'JUMBO BAG TOYS ||| JUMBO BAG WOODLAND ANIMALS': 3,\n",
       " 'JUMBO BAG TOYS ||| RECYCLING BAG RETROSPOT': 3,\n",
       " 'JUMBO BAG TOYS ||| TOY TIDY PINK POLKADOT': 3,\n",
       " 'JUMBO BAG TOYS ||| TOY TIDY SPACEBOY': 3,\n",
       " 'JUMBO BAG WOODLAND ANIMALS ||| RECYCLING BAG RETROSPOT': 3,\n",
       " 'JUMBO BAG WOODLAND ANIMALS ||| TOY TIDY PINK POLKADOT': 3,\n",
       " 'JUMBO BAG WOODLAND ANIMALS ||| TOY TIDY SPACEBOY': 3,\n",
       " 'JUMBO BAG WOODLAND ANIMALS ||| JUMBO STORAGE BAG SUKI': 3,\n",
       " 'JUMBO BAG WOODLAND ANIMALS ||| ROUND SNACK BOXES SET OF4 WOODLAND': 3,\n",
       " 'PACK OF 6 HANDBAG GIFT BOXES ||| RECYCLING BAG RETROSPOT': 3,\n",
       " 'PACK OF 6 PANNETONE GIFT BOXES ||| RECYCLING BAG RETROSPOT': 3,\n",
       " 'SET OF 20 KIDS COOKIE CUTTERS ||| TOY TIDY PINK POLKADOT': 3,\n",
       " 'SET OF 20 KIDS COOKIE CUTTERS ||| TOY TIDY SPACEBOY': 3,\n",
       " 'DOORMAT UNION FLAG ||| RECIPE BOX RETROSPOT': 3,\n",
       " 'DOORMAT UNION FLAG ||| SET 3 RETROSPOT TEA,COFFEE,SUGAR': 3,\n",
       " 'DOORMAT UNION FLAG ||| MINT KITCHEN SCALES': 3,\n",
       " 'DOORMAT UNION FLAG ||| SET OF TEA COFFEE SUGAR TINS PANTRY': 3,\n",
       " 'DOORMAT UNION FLAG ||| VINTAGE CREAM CAT FOOD CONTAINER': 3,\n",
       " 'DOORMAT UNION FLAG ||| VINTAGE CREAM DOG FOOD CONTAINER': 3,\n",
       " 'DOORMAT WELCOME TO OUR HOME ||| SET 3 RETROSPOT TEA,COFFEE,SUGAR': 3,\n",
       " 'DOORMAT WELCOME TO OUR HOME ||| SET OF 6 SPICE TINS PANTRY DESIGN': 3,\n",
       " 'DOORMAT WELCOME TO OUR HOME ||| JAM MAKING SET WITH JARS': 3,\n",
       " 'ABC TREASURE BOOK BOX ||| RED RETROSPOT CHARLOTTE BAG': 3,\n",
       " 'ABC TREASURE BOOK BOX ||| WOODLAND CHARLOTTE BAG': 3,\n",
       " 'RED RETROSPOT CHARLOTTE BAG ||| WOODLAND CHARLOTTE BAG': 3,\n",
       " 'GINGERBREAD MAN COOKIE CUTTER ||| PLASTERS IN TIN CIRCUS PARADE': 3,\n",
       " 'GINGERBREAD MAN COOKIE CUTTER ||| PLASTERS IN TIN WOODLAND ANIMALS': 3,\n",
       " 'GINGERBREAD MAN COOKIE CUTTER ||| ROUND SNACK BOXES SET OF4 WOODLAND': 3,\n",
       " 'ROUND SNACK BOXES SET OF4 WOODLAND ||| SET OF 20 KIDS COOKIE CUTTERS': 3,\n",
       " 'SET OF TEA COFFEE SUGAR TINS PANTRY ||| VINTAGE CREAM CAT FOOD CONTAINER': 3,\n",
       " 'BREAD BIN DINER STYLE IVORY ||| MINT KITCHEN SCALES': 3,\n",
       " 'BREAD BIN DINER STYLE IVORY ||| SET OF TEA COFFEE SUGAR TINS PANTRY': 3,\n",
       " 'BREAD BIN DINER STYLE IVORY ||| VINTAGE CREAM CAT FOOD CONTAINER': 3,\n",
       " 'BREAD BIN DINER STYLE IVORY ||| VINTAGE CREAM DOG FOOD CONTAINER': 3,\n",
       " 'BREAD BIN DINER STYLE IVORY ||| RECIPE BOX PANTRY YELLOW DESIGN': 3,\n",
       " 'JAM MAKING SET WITH JARS ||| RECIPE BOX PANTRY YELLOW DESIGN': 3,\n",
       " 'JAM MAKING SET WITH JARS ||| RETROSPOT LARGE MILK JUG': 3,\n",
       " 'JAM MAKING SET WITH JARS ||| PLASTERS IN TIN SKULLS': 3,\n",
       " 'JAM MAKING SET WITH JARS ||| SET OF 6 TEA TIME BAKING CASES': 3,\n",
       " 'VINTAGE CREAM CAT FOOD CONTAINER ||| VINTAGE CREAM DOG FOOD CONTAINER': 3,\n",
       " 'GREEN REGENCY TEACUP AND SAUCER ||| POSTAGE': 2,\n",
       " 'POSTAGE ||| RAIN PONCHO RETROSPOT': 2,\n",
       " 'POSTAGE ||| RED RETROSPOT PICNIC BAG': 2,\n",
       " 'POSTAGE ||| TOY TIDY PINK POLKADOT': 2,\n",
       " 'POSTAGE ||| TOY TIDY SPACEBOY': 2,\n",
       " 'POSTAGE ||| RECIPE BOX RETROSPOT': 2,\n",
       " 'POSTAGE ||| SET OF 20 KIDS COOKIE CUTTERS': 2,\n",
       " 'POSTAGE ||| SET OF 6 SPICE TINS PANTRY DESIGN': 2,\n",
       " 'POSTAGE ||| ROUND SNACK BOXES SET OF4 WOODLAND': 2,\n",
       " 'POSTAGE ||| SET/6 RED SPOTTY PAPER CUPS': 2,\n",
       " 'POSTAGE ||| WHITE HANGING HEART T-LIGHT HOLDER': 2,\n",
       " 'POSTAGE ||| RED SPOT CERAMIC DRAWER KNOB': 2,\n",
       " 'POSTAGE ||| SET OF 10 LED DOLLY LIGHTS': 2,\n",
       " 'POSTAGE ||| RECIPE BOX PANTRY YELLOW DESIGN': 2,\n",
       " 'POSTAGE ||| SET OF 12 FAIRY CAKE BAKING CASES': 2,\n",
       " 'POSTAGE ||| SET OF 12 MINI LOAF BAKING CASES': 2,\n",
       " 'POSTAGE ||| SET OF 4 KNICK KNACK TINS DOILY': 2,\n",
       " 'POSTAGE ||| SET OF 6 TEA TIME BAKING CASES': 2,\n",
       " 'POSTAGE ||| VINTAGE DOILY TRAVEL SEWING KIT': 2,\n",
       " 'HOMEMADE JAM SCENTED CANDLES ||| POSTAGE': 2,\n",
       " 'HOMEMADE JAM SCENTED CANDLES ||| REGENCY CAKESTAND 3 TIER': 2,\n",
       " 'REGENCY CAKESTAND 3 TIER ||| SET OF 3 CAKE TINS PANTRY DESIGN': 2,\n",
       " 'REGENCY CAKESTAND 3 TIER ||| SET/6 RED SPOTTY PAPER CUPS': 2,\n",
       " 'REGENCY CAKESTAND 3 TIER ||| SET OF 12 FAIRY CAKE BAKING CASES': 2,\n",
       " 'REGENCY CAKESTAND 3 TIER ||| SET OF 12 MINI LOAF BAKING CASES': 2,\n",
       " 'REGENCY CAKESTAND 3 TIER ||| SET OF 4 KNICK KNACK TINS DOILY': 2,\n",
       " 'REGENCY CAKESTAND 3 TIER ||| SET OF 6 TEA TIME BAKING CASES': 2,\n",
       " 'REGENCY CAKESTAND 3 TIER ||| VINTAGE DOILY TRAVEL SEWING KIT': 2,\n",
       " 'DOLLY GIRL LUNCH BOX ||| LUNCH BAG RED RETROSPOT': 2,\n",
       " 'DOLLY GIRL LUNCH BOX ||| LUNCH BOX I LOVE LONDON': 2,\n",
       " 'DOLLY GIRL LUNCH BOX ||| SPACEBOY LUNCH BOX': 2,\n",
       " 'DOORMAT AIRMAIL ||| FIRST AID TIN': 2,\n",
       " 'DOORMAT AIRMAIL ||| POSTAGE': 2,\n",
       " 'DOORMAT AIRMAIL ||| DOORMAT SPOTTY HOME SWEET HOME': 2,\n",
       " 'DOORMAT AIRMAIL ||| SET 3 RETROSPOT TEA,COFFEE,SUGAR': 2,\n",
       " 'DOORMAT AIRMAIL ||| SET OF 6 SPICE TINS PANTRY DESIGN': 2,\n",
       " 'DOORMAT AIRMAIL ||| DOORMAT KEEP CALM AND COME IN': 2,\n",
       " 'DOORMAT AIRMAIL ||| ENAMEL PINK COFFEE CONTAINER': 2,\n",
       " 'DOORMAT AIRMAIL ||| MINT KITCHEN SCALES': 2,\n",
       " 'DOORMAT AIRMAIL ||| JAM MAKING SET WITH JARS': 2,\n",
       " 'DOORMAT AIRMAIL ||| SET OF TEA COFFEE SUGAR TINS PANTRY': 2,\n",
       " 'DOORMAT AIRMAIL ||| VINTAGE CREAM CAT FOOD CONTAINER': 2,\n",
       " 'DOORMAT AIRMAIL ||| VINTAGE CREAM DOG FOOD CONTAINER': 2,\n",
       " 'DOORMAT ENGLISH ROSE ||| PLASTERS IN TIN CIRCUS PARADE': 2,\n",
       " 'DOORMAT ENGLISH ROSE ||| PLASTERS IN TIN WOODLAND ANIMALS': 2,\n",
       " 'DOORMAT ENGLISH ROSE ||| POSTAGE': 2,\n",
       " 'DOORMAT ENGLISH ROSE ||| RAIN PONCHO RETROSPOT': 2,\n",
       " 'FELTCRAFT DOLL MOLLY ||| POSTAGE': 2,\n",
       " 'FELTCRAFT DOLL MOLLY ||| ROUND SNACK BOXES SET OF 4 FRUITS': 2,\n",
       " 'FELTCRAFT DOLL MOLLY ||| JUMBO BAG ALPHABET': 2,\n",
       " 'FELTCRAFT DOLL MOLLY ||| JUMBO BAG TOYS': 2,\n",
       " 'FELTCRAFT DOLL MOLLY ||| JUMBO BAG WOODLAND ANIMALS': 2,\n",
       " 'FELTCRAFT DOLL MOLLY ||| JUMBO STORAGE BAG SKULLS': 2,\n",
       " 'FELTCRAFT DOLL MOLLY ||| JUMBO STORAGE BAG SUKI': 2,\n",
       " 'FELTCRAFT DOLL MOLLY ||| LARGE CAKE TOWEL PINK SPOTS': 2,\n",
       " \"FELTCRAFT DOLL MOLLY ||| POPPY'S PLAYHOUSE BEDROOM\": 2,\n",
       " \"FELTCRAFT DOLL MOLLY ||| POPPY'S PLAYHOUSE KITCHEN\": 2,\n",
       " 'FELTCRAFT DOLL MOLLY ||| ROUND SNACK BOXES SET OF4 WOODLAND': 2,\n",
       " 'FELTCRAFT DOLL MOLLY ||| TOY TIDY PINK POLKADOT': 2,\n",
       " 'FELTCRAFT DOLL MOLLY ||| TOY TIDY SPACEBOY': 2,\n",
       " 'FELTCRAFT DOLL ROSIE ||| POSTAGE': 2,\n",
       " 'FELTCRAFT DOLL ROSIE ||| RECYCLING BAG RETROSPOT': 2,\n",
       " 'FIRST AID TIN ||| POSTAGE': 2,\n",
       " 'LUNCH BAG RED RETROSPOT ||| LUNCH BOX I LOVE LONDON': 2,\n",
       " 'LUNCH BAG RED RETROSPOT ||| SPACEBOY LUNCH BOX': 2,\n",
       " 'LUNCH BOX I LOVE LONDON ||| SPACEBOY LUNCH BOX': 2,\n",
       " 'MINI LADLE LOVE HEART RED ||| PLASTERS IN TIN CIRCUS PARADE': 2,\n",
       " 'MINI LADLE LOVE HEART RED ||| PLASTERS IN TIN WOODLAND ANIMALS': 2,\n",
       " 'MINI LADLE LOVE HEART RED ||| SET OF 3 HEART COOKIE CUTTERS': 2,\n",
       " 'PLASTERS IN TIN CIRCUS PARADE ||| RAIN PONCHO RETROSPOT': 2,\n",
       " 'PLASTERS IN TIN CIRCUS PARADE ||| RECYCLING BAG RETROSPOT': 2,\n",
       " 'PLASTERS IN TIN CIRCUS PARADE ||| SET OF 3 HEART COOKIE CUTTERS': 2,\n",
       " 'PLASTERS IN TIN CIRCUS PARADE ||| TOY TIDY PINK POLKADOT': 2,\n",
       " 'PLASTERS IN TIN CIRCUS PARADE ||| TOY TIDY SPACEBOY': 2,\n",
       " 'PLASTERS IN TIN CIRCUS PARADE ||| PLASTERS IN TIN SKULLS': 2,\n",
       " 'PLASTERS IN TIN CIRCUS PARADE ||| PLASTERS IN TIN STRONGMAN': 2,\n",
       " 'PLASTERS IN TIN CIRCUS PARADE ||| SET OF 6 TEA TIME BAKING CASES': 2,\n",
       " 'PLASTERS IN TIN WOODLAND ANIMALS ||| RAIN PONCHO RETROSPOT': 2,\n",
       " 'PLASTERS IN TIN WOODLAND ANIMALS ||| SET OF 3 HEART COOKIE CUTTERS': 2,\n",
       " 'PLASTERS IN TIN WOODLAND ANIMALS ||| SET OF 6 TEA TIME BAKING CASES': 2,\n",
       " 'RECYCLING BAG RETROSPOT ||| RED RETROSPOT PICNIC BAG': 2,\n",
       " 'RECYCLING BAG RETROSPOT ||| ROUND SNACK BOXES SET OF 4 FRUITS': 2,\n",
       " 'RECYCLING BAG RETROSPOT ||| SET OF 20 KIDS COOKIE CUTTERS': 2,\n",
       " 'RECYCLING BAG RETROSPOT ||| ROUND SNACK BOXES SET OF4 WOODLAND': 2,\n",
       " 'FAIRY TALE COTTAGE NIGHTLIGHT ||| LUNCH BAG CARS BLUE': 2,\n",
       " 'FAIRY TALE COTTAGE NIGHTLIGHT ||| LUNCH BAG WOODLAND': 2,\n",
       " 'FAIRY TALE COTTAGE NIGHTLIGHT ||| MIRRORED WALL ART POPPIES': 2,\n",
       " 'FAIRY TALE COTTAGE NIGHTLIGHT ||| MIRRORED WALL ART STARS': 2,\n",
       " 'FAIRY TALE COTTAGE NIGHTLIGHT ||| PHOTO CLIP LINE': 2,\n",
       " 'FAIRY TALE COTTAGE NIGHTLIGHT ||| POSTAGE': 2,\n",
       " 'FAIRY TALE COTTAGE NIGHTLIGHT ||| RECYCLING BAG RETROSPOT': 2,\n",
       " 'FAIRY TALE COTTAGE NIGHTLIGHT ||| GINGERBREAD MAN COOKIE CUTTER': 2,\n",
       " 'FAIRY TALE COTTAGE NIGHTLIGHT ||| JUMBO STORAGE BAG SUKI': 2,\n",
       " 'FAIRY TALE COTTAGE NIGHTLIGHT ||| PLASTERS IN TIN CIRCUS PARADE': 2,\n",
       " 'FAIRY TALE COTTAGE NIGHTLIGHT ||| PLASTERS IN TIN WOODLAND ANIMALS': 2,\n",
       " 'FAIRY TALE COTTAGE NIGHTLIGHT ||| RED RETROSPOT CHARLOTTE BAG': 2,\n",
       " 'FAIRY TALE COTTAGE NIGHTLIGHT ||| ROUND SNACK BOXES SET OF4 WOODLAND': 2,\n",
       " 'FAIRY TALE COTTAGE NIGHTLIGHT ||| SET OF 20 KIDS COOKIE CUTTERS': 2,\n",
       " 'FAIRY TALE COTTAGE NIGHTLIGHT ||| WOODLAND CHARLOTTE BAG': 2,\n",
       " 'FAIRY TALE COTTAGE NIGHTLIGHT ||| WOODLAND  HEIGHT CHART STICKERS': 2,\n",
       " 'LUNCH BAG CARS BLUE ||| MIRRORED WALL ART POPPIES': 2,\n",
       " 'LUNCH BAG CARS BLUE ||| MIRRORED WALL ART STARS': 2,\n",
       " 'LUNCH BAG CARS BLUE ||| PHOTO CLIP LINE': 2,\n",
       " 'LUNCH BAG CARS BLUE ||| PICTURE DOMINOES': 2,\n",
       " 'LUNCH BAG CARS BLUE ||| RETROSPOT TEA SET CERAMIC 11 PC': 2,\n",
       " 'LUNCH BAG CARS BLUE ||| TOY TIDY PINK POLKADOT': 2,\n",
       " 'LUNCH BAG CARS BLUE ||| TOY TIDY SPACEBOY': 2,\n",
       " 'LUNCH BAG WOODLAND ||| MIRRORED WALL ART POPPIES': 2,\n",
       " 'LUNCH BAG WOODLAND ||| MIRRORED WALL ART STARS': 2,\n",
       " 'LUNCH BAG WOODLAND ||| PHOTO CLIP LINE': 2,\n",
       " 'LUNCH BAG WOODLAND ||| PICTURE DOMINOES': 2,\n",
       " 'LUNCH BAG WOODLAND ||| RETROSPOT TEA SET CERAMIC 11 PC': 2,\n",
       " 'LUNCH BAG WOODLAND ||| TOY TIDY PINK POLKADOT': 2,\n",
       " 'LUNCH BAG WOODLAND ||| TOY TIDY SPACEBOY': 2,\n",
       " 'MIRRORED WALL ART POPPIES ||| MIRRORED WALL ART STARS': 2,\n",
       " 'MIRRORED WALL ART POPPIES ||| PHOTO CLIP LINE': 2,\n",
       " 'MIRRORED WALL ART POPPIES ||| PICTURE DOMINOES': 2,\n",
       " 'MIRRORED WALL ART POPPIES ||| RETROSPOT TEA SET CERAMIC 11 PC': 2,\n",
       " 'MIRRORED WALL ART POPPIES ||| TOY TIDY PINK POLKADOT': 2,\n",
       " 'MIRRORED WALL ART POPPIES ||| TOY TIDY SPACEBOY': 2,\n",
       " 'MIRRORED WALL ART STARS ||| PHOTO CLIP LINE': 2,\n",
       " 'MIRRORED WALL ART STARS ||| PICTURE DOMINOES': 2,\n",
       " 'MIRRORED WALL ART STARS ||| RETROSPOT TEA SET CERAMIC 11 PC': 2,\n",
       " 'MIRRORED WALL ART STARS ||| TOY TIDY PINK POLKADOT': 2,\n",
       " 'MIRRORED WALL ART STARS ||| TOY TIDY SPACEBOY': 2,\n",
       " 'PHOTO CLIP LINE ||| PICTURE DOMINOES': 2,\n",
       " 'PHOTO CLIP LINE ||| RECYCLING BAG RETROSPOT': 2,\n",
       " 'PHOTO CLIP LINE ||| SET OF 20 KIDS COOKIE CUTTERS': 2,\n",
       " 'PICTURE DOMINOES ||| RECYCLING BAG RETROSPOT': 2,\n",
       " 'PICTURE DOMINOES ||| RETROSPOT TEA SET CERAMIC 11 PC': 2,\n",
       " 'PICTURE DOMINOES ||| WOODLAND  HEIGHT CHART STICKERS': 2,\n",
       " 'RETROSPOT TEA SET CERAMIC 11 PC ||| SET OF 4 PANTRY JELLY MOULDS': 2,\n",
       " 'RETROSPOT TEA SET CERAMIC 11 PC ||| WHITE HANGING HEART T-LIGHT HOLDER': 2,\n",
       " 'TOY TIDY PINK POLKADOT ||| WOODLAND  HEIGHT CHART STICKERS': 2,\n",
       " 'TOY TIDY SPACEBOY ||| WOODLAND  HEIGHT CHART STICKERS': 2,\n",
       " 'BAKING MOULD CHOCOLATE CUPCAKES ||| JAM MAKING SET PRINTED': 2,\n",
       " 'BAKING MOULD CHOCOLATE CUPCAKES ||| RED LOVE HEART SHAPE CUP': 2,\n",
       " 'DOORMAT SPOTTY HOME SWEET HOME ||| POSTAGE': 2,\n",
       " 'DOORMAT SPOTTY HOME SWEET HOME ||| DOORMAT WELCOME TO OUR HOME': 2,\n",
       " 'DOORMAT SPOTTY HOME SWEET HOME ||| SET 3 RETROSPOT TEA,COFFEE,SUGAR': 2,\n",
       " 'DOORMAT SPOTTY HOME SWEET HOME ||| SET OF 3 CAKE TINS PANTRY DESIGN': 2,\n",
       " 'DOORMAT SPOTTY HOME SWEET HOME ||| SET OF 6 SPICE TINS PANTRY DESIGN': 2,\n",
       " 'DOORMAT SPOTTY HOME SWEET HOME ||| SET OF TEA COFFEE SUGAR TINS PANTRY': 2,\n",
       " 'DOORMAT SPOTTY HOME SWEET HOME ||| VINTAGE CREAM CAT FOOD CONTAINER': 2,\n",
       " 'DOORMAT SPOTTY HOME SWEET HOME ||| VINTAGE CREAM DOG FOOD CONTAINER': 2,\n",
       " 'FOOD CONTAINER SET 3 LOVE HEART ||| POSTAGE': 2,\n",
       " 'FRIDGE MAGNETS LES ENFANTS ASSORTED ||| FRIDGE MAGNETS US DINER ASSORTED': 2,\n",
       " 'JAM MAKING SET PRINTED ||| POSTAGE': 2,\n",
       " 'JAM MAKING SET PRINTED ||| RED LOVE HEART SHAPE CUP': 2,\n",
       " 'JAM MAKING SET PRINTED ||| SWEETHEART CAKESTAND 3 TIER': 2,\n",
       " 'JAM MAKING SET PRINTED ||| PACK OF 20 SKULL PAPER NAPKINS': 2,\n",
       " 'JAM MAKING SET PRINTED ||| PACK OF 6 PANNETONE GIFT BOXES': 2,\n",
       " 'JAM MAKING SET PRINTED ||| PACK OF 6 SKULL PAPER CUPS': 2,\n",
       " 'JAM MAKING SET PRINTED ||| PACK OF 6 SKULL PAPER PLATES': 2,\n",
       " 'JAM MAKING SET PRINTED ||| RETROSPOT TEA SET CERAMIC 11 PC': 2,\n",
       " 'JAM MAKING SET PRINTED ||| SET OF 4 PANTRY JELLY MOULDS': 2,\n",
       " 'JAM MAKING SET PRINTED ||| JAM MAKING SET WITH JARS': 2,\n",
       " 'JAM MAKING SET PRINTED ||| RED RETROSPOT MINI CASES': 2,\n",
       " 'RECIPE BOX RETROSPOT ||| SET 3 RETROSPOT TEA,COFFEE,SUGAR': 2,\n",
       " 'RECIPE BOX RETROSPOT ||| SET OF 3 CAKE TINS PANTRY DESIGN': 2,\n",
       " 'SWEETHEART CAKESTAND 3 TIER ||| WHITE HANGING HEART T-LIGHT HOLDER': 2,\n",
       " 'CHILDRENS APRON APPLES DESIGN ||| PACK OF 6 HANDBAG GIFT BOXES': 2,\n",
       " 'CHILDRENS APRON APPLES DESIGN ||| PACK OF 6 PANNETONE GIFT BOXES': 2,\n",
       " 'CHILDRENS APRON APPLES DESIGN ||| POSTAGE': 2,\n",
       " 'CHILDRENS APRON APPLES DESIGN ||| PLASTERS IN TIN WOODLAND ANIMALS': 2,\n",
       " 'CHILDRENS APRON APPLES DESIGN ||| RED RETROSPOT CHARLOTTE BAG': 2,\n",
       " 'CHILDRENS APRON APPLES DESIGN ||| WOODLAND CHARLOTTE BAG': 2,\n",
       " 'CHILDRENS APRON APPLES DESIGN ||| FELTCRAFT DOLL MOLLY': 2,\n",
       " 'CHILDRENS APRON APPLES DESIGN ||| JUMBO BAG ALPHABET': 2,\n",
       " 'CHILDRENS APRON APPLES DESIGN ||| JUMBO STORAGE BAG SKULLS': 2,\n",
       " 'CHILDRENS APRON APPLES DESIGN ||| LARGE CAKE TOWEL PINK SPOTS': 2,\n",
       " 'CHILDRENS APRON APPLES DESIGN ||| PICTURE DOMINOES': 2,\n",
       " \"CHILDRENS APRON APPLES DESIGN ||| POPPY'S PLAYHOUSE BEDROOM\": 2,\n",
       " \"CHILDRENS APRON APPLES DESIGN ||| POPPY'S PLAYHOUSE KITCHEN\": 2,\n",
       " 'CHILDRENS APRON APPLES DESIGN ||| WOODLAND  HEIGHT CHART STICKERS': 2,\n",
       " 'CHILDRENS APRON APPLES DESIGN ||| PHOTO CLIP LINE': 2,\n",
       " 'JUMBO BAG TOYS ||| PACK OF 6 HANDBAG GIFT BOXES': 2,\n",
       " 'JUMBO BAG TOYS ||| PACK OF 6 PANNETONE GIFT BOXES': 2,\n",
       " 'JUMBO BAG TOYS ||| SET OF 20 KIDS COOKIE CUTTERS': 2,\n",
       " 'JUMBO BAG TOYS ||| JUMBO STORAGE BAG SKULLS': 2,\n",
       " 'JUMBO BAG TOYS ||| JUMBO STORAGE BAG SUKI': 2,\n",
       " 'JUMBO BAG TOYS ||| LARGE CAKE TOWEL PINK SPOTS': 2,\n",
       " \"JUMBO BAG TOYS ||| POPPY'S PLAYHOUSE BEDROOM\": 2,\n",
       " \"JUMBO BAG TOYS ||| POPPY'S PLAYHOUSE KITCHEN\": 2,\n",
       " 'JUMBO BAG TOYS ||| ROUND SNACK BOXES SET OF4 WOODLAND': 2,\n",
       " 'JUMBO BAG WOODLAND ANIMALS ||| PACK OF 6 HANDBAG GIFT BOXES': 2,\n",
       " 'JUMBO BAG WOODLAND ANIMALS ||| PACK OF 6 PANNETONE GIFT BOXES': 2,\n",
       " 'JUMBO BAG WOODLAND ANIMALS ||| SET OF 20 KIDS COOKIE CUTTERS': 2,\n",
       " 'JUMBO BAG WOODLAND ANIMALS ||| JUMBO STORAGE BAG SKULLS': 2,\n",
       " 'JUMBO BAG WOODLAND ANIMALS ||| LARGE CAKE TOWEL PINK SPOTS': 2,\n",
       " \"JUMBO BAG WOODLAND ANIMALS ||| POPPY'S PLAYHOUSE BEDROOM\": 2,\n",
       " \"JUMBO BAG WOODLAND ANIMALS ||| POPPY'S PLAYHOUSE KITCHEN\": 2,\n",
       " 'PACK OF 6 HANDBAG GIFT BOXES ||| PACK OF 6 PANNETONE GIFT BOXES': 2,\n",
       " 'PACK OF 6 HANDBAG GIFT BOXES ||| POSTAGE': 2,\n",
       " 'PACK OF 6 HANDBAG GIFT BOXES ||| SET OF 20 KIDS COOKIE CUTTERS': 2,\n",
       " 'PACK OF 6 HANDBAG GIFT BOXES ||| TOY TIDY PINK POLKADOT': 2,\n",
       " 'PACK OF 6 HANDBAG GIFT BOXES ||| TOY TIDY SPACEBOY': 2,\n",
       " 'PACK OF 6 HANDBAG GIFT BOXES ||| RETROSPOT TEA SET CERAMIC 11 PC': 2,\n",
       " 'PACK OF 6 PANNETONE GIFT BOXES ||| POSTAGE': 2,\n",
       " 'PACK OF 6 PANNETONE GIFT BOXES ||| TOY TIDY PINK POLKADOT': 2,\n",
       " 'PACK OF 6 PANNETONE GIFT BOXES ||| TOY TIDY SPACEBOY': 2,\n",
       " 'PACK OF 6 PANNETONE GIFT BOXES ||| PACK OF 6 SKULL PAPER CUPS': 2,\n",
       " 'PACK OF 6 PANNETONE GIFT BOXES ||| PACK OF 6 SKULL PAPER PLATES': 2,\n",
       " 'PACK OF 6 PANNETONE GIFT BOXES ||| PLASTERS IN TIN SKULLS': 2,\n",
       " 'BATH BUILDING BLOCK WORD ||| HOME BUILDING BLOCK WORD': 2,\n",
       " 'BREAD BIN DINER STYLE PINK ||| DOORMAT AIRMAIL': 2,\n",
       " 'BREAD BIN DINER STYLE PINK ||| DOORMAT UNION FLAG': 2,\n",
       " 'BREAD BIN DINER STYLE PINK ||| DOORMAT WELCOME TO OUR HOME': 2,\n",
       " 'BREAD BIN DINER STYLE PINK ||| SET OF 3 CAKE TINS PANTRY DESIGN': 2,\n",
       " 'BREAD BIN DINER STYLE PINK ||| MINT KITCHEN SCALES': 2,\n",
       " 'DOORMAT UNION FLAG ||| SET OF 6 SPICE TINS PANTRY DESIGN': 2,\n",
       " 'DOORMAT UNION FLAG ||| ENAMEL PINK COFFEE CONTAINER': 2,\n",
       " 'DOORMAT UNION FLAG ||| JAM MAKING SET WITH JARS': 2,\n",
       " 'DOORMAT UNION FLAG ||| RECIPE BOX PANTRY YELLOW DESIGN': 2,\n",
       " 'DOORMAT WELCOME TO OUR HOME ||| POSTAGE': 2,\n",
       " 'DOORMAT WELCOME TO OUR HOME ||| ENAMEL PINK COFFEE CONTAINER': 2,\n",
       " 'DOORMAT WELCOME TO OUR HOME ||| MINT KITCHEN SCALES': 2,\n",
       " 'DOORMAT WELCOME TO OUR HOME ||| SET OF TEA COFFEE SUGAR TINS PANTRY': 2,\n",
       " 'DOORMAT WELCOME TO OUR HOME ||| VINTAGE CREAM CAT FOOD CONTAINER': 2,\n",
       " 'DOORMAT WELCOME TO OUR HOME ||| VINTAGE CREAM DOG FOOD CONTAINER': 2,\n",
       " 'DOORMAT WELCOME TO OUR HOME ||| RECIPE BOX PANTRY YELLOW DESIGN': 2,\n",
       " 'DOORMAT WELCOME TO OUR HOME ||| RETROSPOT LARGE MILK JUG': 2,\n",
       " 'DOORMAT WELCOME TO OUR HOME ||| SMALL RED RETROSPOT MUG IN BOX': 2,\n",
       " 'DOORMAT WELCOME TO OUR HOME ||| SMALL WHITE RETROSPOT MUG IN BOX': 2,\n",
       " 'SET 3 RETROSPOT TEA,COFFEE,SUGAR ||| SET OF 3 CAKE TINS PANTRY DESIGN': 2,\n",
       " 'SET 3 RETROSPOT TEA,COFFEE,SUGAR ||| SET OF TEA COFFEE SUGAR TINS PANTRY': 2,\n",
       " 'SET 3 RETROSPOT TEA,COFFEE,SUGAR ||| VINTAGE CREAM CAT FOOD CONTAINER': 2,\n",
       " 'SET 3 RETROSPOT TEA,COFFEE,SUGAR ||| VINTAGE CREAM DOG FOOD CONTAINER': 2,\n",
       " 'ABC TREASURE BOOK BOX ||| CHILDRENS APRON APPLES DESIGN': 2,\n",
       " 'ABC TREASURE BOOK BOX ||| FAIRY TALE COTTAGE NIGHTLIGHT': 2,\n",
       " 'ABC TREASURE BOOK BOX ||| JUMBO STORAGE BAG SUKI': 2,\n",
       " 'ABC TREASURE BOOK BOX ||| RETROSPOT TEA SET CERAMIC 11 PC': 2,\n",
       " 'ABC TREASURE BOOK BOX ||| ROUND SNACK BOXES SET OF4 WOODLAND': 2,\n",
       " 'RED RETROSPOT CHARLOTTE BAG ||| ROUND SNACK BOXES SET OF4 WOODLAND': 2,\n",
       " 'SET/3 RED GINGHAM ROSE STORAGE BOX ||| WELCOME  WOODEN BLOCK LETTERS': 2,\n",
       " 'GINGERBREAD MAN COOKIE CUTTER ||| JUMBO STORAGE BAG SUKI': 2,\n",
       " 'GINGERBREAD MAN COOKIE CUTTER ||| PACK OF 12 RED RETROSPOT TISSUES': 2,\n",
       " 'GINGERBREAD MAN COOKIE CUTTER ||| PHOTO CLIP LINE': 2,\n",
       " 'GINGERBREAD MAN COOKIE CUTTER ||| TOY TIDY PINK POLKADOT': 2,\n",
       " 'GINGERBREAD MAN COOKIE CUTTER ||| TOY TIDY SPACEBOY': 2,\n",
       " 'JUMBO STORAGE BAG SUKI ||| RED RETROSPOT CHARLOTTE BAG': 2,\n",
       " 'JUMBO STORAGE BAG SUKI ||| RETROSPOT TEA SET CERAMIC 11 PC': 2,\n",
       " 'JUMBO STORAGE BAG SUKI ||| SET OF 20 KIDS COOKIE CUTTERS': 2,\n",
       " 'JUMBO STORAGE BAG SUKI ||| WOODLAND CHARLOTTE BAG': 2,\n",
       " 'JUMBO STORAGE BAG SUKI ||| LARGE CAKE TOWEL PINK SPOTS': 2,\n",
       " \"JUMBO STORAGE BAG SUKI ||| POPPY'S PLAYHOUSE BEDROOM\": 2,\n",
       " \"JUMBO STORAGE BAG SUKI ||| POPPY'S PLAYHOUSE KITCHEN\": 2,\n",
       " 'JUMBO STORAGE BAG SUKI ||| RECYCLING BAG RETROSPOT': 2,\n",
       " 'JUMBO STORAGE BAG SUKI ||| TOY TIDY PINK POLKADOT': 2,\n",
       " 'JUMBO STORAGE BAG SUKI ||| TOY TIDY SPACEBOY': 2,\n",
       " 'ROUND SNACK BOXES SET OF4 WOODLAND ||| WOODLAND CHARLOTTE BAG': 2,\n",
       " 'ROUND SNACK BOXES SET OF4 WOODLAND ||| TOY TIDY PINK POLKADOT': 2,\n",
       " 'ROUND SNACK BOXES SET OF4 WOODLAND ||| TOY TIDY SPACEBOY': 2,\n",
       " 'ROUND SNACK BOXES SET OF4 WOODLAND ||| SET OF 6 TEA TIME BAKING CASES': 2,\n",
       " 'DOORMAT HOME SWEET HOME BLUE ||| FEATHER PEN,COAL BLACK': 2,\n",
       " 'DOORMAT HOME SWEET HOME BLUE ||| FEATHER PEN,HOT PINK': 2,\n",
       " 'DOORMAT HOME SWEET HOME BLUE ||| FEATHER PEN,LIGHT PINK': 2,\n",
       " \"DOORMAT HOME SWEET HOME BLUE ||| YOU'RE CONFUSING ME METAL SIGN\": 2,\n",
       " 'FEATHER PEN,COAL BLACK ||| FEATHER PEN,HOT PINK': 2,\n",
       " 'FEATHER PEN,COAL BLACK ||| FEATHER PEN,LIGHT PINK': 2,\n",
       " \"FEATHER PEN,COAL BLACK ||| YOU'RE CONFUSING ME METAL SIGN\": 2,\n",
       " 'FEATHER PEN,HOT PINK ||| FEATHER PEN,LIGHT PINK': 2,\n",
       " \"FEATHER PEN,HOT PINK ||| YOU'RE CONFUSING ME METAL SIGN\": 2,\n",
       " \"FEATHER PEN,LIGHT PINK ||| YOU'RE CONFUSING ME METAL SIGN\": 2,\n",
       " 'LUNCH BAG APPLE DESIGN ||| LUNCH BAG CARS BLUE': 2,\n",
       " 'LUNCH BAG APPLE DESIGN ||| LUNCH BAG WOODLAND': 2,\n",
       " 'JUMBO BAG ALPHABET ||| JUMBO BAG TOYS': 2,\n",
       " 'JUMBO BAG ALPHABET ||| JUMBO BAG WOODLAND ANIMALS': 2,\n",
       " 'JUMBO BAG ALPHABET ||| JUMBO STORAGE BAG SKULLS': 2,\n",
       " 'JUMBO BAG ALPHABET ||| JUMBO STORAGE BAG SUKI': 2,\n",
       " 'JUMBO BAG ALPHABET ||| LARGE CAKE TOWEL PINK SPOTS': 2,\n",
       " \"JUMBO BAG ALPHABET ||| POPPY'S PLAYHOUSE BEDROOM\": 2,\n",
       " \"JUMBO BAG ALPHABET ||| POPPY'S PLAYHOUSE KITCHEN\": 2,\n",
       " 'JUMBO BAG ALPHABET ||| RECYCLING BAG RETROSPOT': 2,\n",
       " 'JUMBO BAG ALPHABET ||| ROUND SNACK BOXES SET OF4 WOODLAND': 2,\n",
       " 'JUMBO BAG ALPHABET ||| TOY TIDY PINK POLKADOT': 2,\n",
       " 'JUMBO BAG ALPHABET ||| TOY TIDY SPACEBOY': 2,\n",
       " 'JUMBO STORAGE BAG SKULLS ||| JUMBO STORAGE BAG SUKI': 2,\n",
       " 'JUMBO STORAGE BAG SKULLS ||| LARGE CAKE TOWEL PINK SPOTS': 2,\n",
       " \"JUMBO STORAGE BAG SKULLS ||| POPPY'S PLAYHOUSE BEDROOM\": 2,\n",
       " \"JUMBO STORAGE BAG SKULLS ||| POPPY'S PLAYHOUSE KITCHEN\": 2,\n",
       " 'JUMBO STORAGE BAG SKULLS ||| RECYCLING BAG RETROSPOT': 2,\n",
       " 'JUMBO STORAGE BAG SKULLS ||| ROUND SNACK BOXES SET OF4 WOODLAND': 2,\n",
       " 'JUMBO STORAGE BAG SKULLS ||| TOY TIDY PINK POLKADOT': 2,\n",
       " 'JUMBO STORAGE BAG SKULLS ||| TOY TIDY SPACEBOY': 2,\n",
       " \"LARGE CAKE TOWEL PINK SPOTS ||| POPPY'S PLAYHOUSE BEDROOM\": 2,\n",
       " \"LARGE CAKE TOWEL PINK SPOTS ||| POPPY'S PLAYHOUSE KITCHEN\": 2,\n",
       " 'LARGE CAKE TOWEL PINK SPOTS ||| RECYCLING BAG RETROSPOT': 2,\n",
       " 'LARGE CAKE TOWEL PINK SPOTS ||| ROUND SNACK BOXES SET OF4 WOODLAND': 2,\n",
       " 'LARGE CAKE TOWEL PINK SPOTS ||| TOY TIDY PINK POLKADOT': 2,\n",
       " 'LARGE CAKE TOWEL PINK SPOTS ||| TOY TIDY SPACEBOY': 2,\n",
       " \"POPPY'S PLAYHOUSE BEDROOM ||| POPPY'S PLAYHOUSE KITCHEN\": 2,\n",
       " \"POPPY'S PLAYHOUSE BEDROOM ||| RECYCLING BAG RETROSPOT\": 2,\n",
       " \"POPPY'S PLAYHOUSE BEDROOM ||| ROUND SNACK BOXES SET OF4 WOODLAND\": 2,\n",
       " \"POPPY'S PLAYHOUSE BEDROOM ||| TOY TIDY PINK POLKADOT\": 2,\n",
       " \"POPPY'S PLAYHOUSE BEDROOM ||| TOY TIDY SPACEBOY\": 2,\n",
       " \"POPPY'S PLAYHOUSE KITCHEN ||| RECYCLING BAG RETROSPOT\": 2,\n",
       " \"POPPY'S PLAYHOUSE KITCHEN ||| ROUND SNACK BOXES SET OF4 WOODLAND\": 2,\n",
       " \"POPPY'S PLAYHOUSE KITCHEN ||| TOY TIDY PINK POLKADOT\": 2,\n",
       " \"POPPY'S PLAYHOUSE KITCHEN ||| TOY TIDY SPACEBOY\": 2,\n",
       " 'CANDLEHOLDER PINK HANGING HEART ||| DOORMAT AIRMAIL': 2,\n",
       " 'CANDLEHOLDER PINK HANGING HEART ||| DOORMAT UNION FLAG': 2,\n",
       " 'CANDLEHOLDER PINK HANGING HEART ||| DOORMAT WELCOME TO OUR HOME': 2,\n",
       " 'CANDLEHOLDER PINK HANGING HEART ||| MINT KITCHEN SCALES': 2,\n",
       " 'DOORMAT KEEP CALM AND COME IN ||| DOORMAT UNION FLAG': 2,\n",
       " 'DOORMAT KEEP CALM AND COME IN ||| DOORMAT WELCOME TO OUR HOME': 2,\n",
       " 'DOORMAT KEEP CALM AND COME IN ||| ENAMEL PINK COFFEE CONTAINER': 2,\n",
       " 'MINT KITCHEN SCALES ||| RETROSPOT LARGE MILK JUG': 2,\n",
       " 'MINT KITCHEN SCALES ||| SET OF TEA COFFEE SUGAR TINS PANTRY': 2,\n",
       " 'MINT KITCHEN SCALES ||| VINTAGE CREAM DOG FOOD CONTAINER': 2,\n",
       " 'MINT KITCHEN SCALES ||| WHITE HANGING HEART T-LIGHT HOLDER': 2,\n",
       " 'RETROSPOT LARGE MILK JUG ||| SET OF TEA COFFEE SUGAR TINS PANTRY': 2,\n",
       " 'RETROSPOT LARGE MILK JUG ||| VINTAGE CREAM DOG FOOD CONTAINER': 2,\n",
       " 'BAKING SET 9 PIECE RETROSPOT ||| BAKING SET SPACEBOY DESIGN': 2,\n",
       " 'BAKING SET 9 PIECE RETROSPOT ||| CIRCUS PARADE BABY GIFT SET': 2,\n",
       " 'BAKING SET 9 PIECE RETROSPOT ||| CREAM SWEETHEART MINI CHEST': 2,\n",
       " 'BAKING SET 9 PIECE RETROSPOT ||| JAM MAKING SET PRINTED': 2,\n",
       " 'BAKING SET 9 PIECE RETROSPOT ||| PACK OF 20 SKULL PAPER NAPKINS': 2,\n",
       " 'BAKING SET 9 PIECE RETROSPOT ||| PACK OF 6 PANNETONE GIFT BOXES': 2,\n",
       " 'BAKING SET 9 PIECE RETROSPOT ||| PACK OF 6 SKULL PAPER CUPS': 2,\n",
       " 'BAKING SET 9 PIECE RETROSPOT ||| PACK OF 6 SKULL PAPER PLATES': 2,\n",
       " 'BAKING SET 9 PIECE RETROSPOT ||| PLASTERS IN TIN SKULLS': 2,\n",
       " 'BAKING SET 9 PIECE RETROSPOT ||| POSTAGE': 2,\n",
       " 'BAKING SET 9 PIECE RETROSPOT ||| RETROSPOT TEA SET CERAMIC 11 PC': 2,\n",
       " 'BAKING SET 9 PIECE RETROSPOT ||| WHITE HANGING HEART T-LIGHT HOLDER': 2,\n",
       " 'BAKING SET 9 PIECE RETROSPOT ||| GINGHAM HEART DECORATION': 2,\n",
       " 'BAKING SET 9 PIECE RETROSPOT ||| RED RETROSPOT MINI CASES': 2,\n",
       " 'BAKING SET SPACEBOY DESIGN ||| POSTAGE': 2,\n",
       " 'CIRCUS PARADE BABY GIFT SET ||| CREAM SWEETHEART MINI CHEST': 2,\n",
       " 'CIRCUS PARADE BABY GIFT SET ||| JAM MAKING SET PRINTED': 2,\n",
       " 'CIRCUS PARADE BABY GIFT SET ||| PACK OF 20 SKULL PAPER NAPKINS': 2,\n",
       " 'CIRCUS PARADE BABY GIFT SET ||| PACK OF 6 PANNETONE GIFT BOXES': 2,\n",
       " 'CIRCUS PARADE BABY GIFT SET ||| PACK OF 6 SKULL PAPER CUPS': 2,\n",
       " 'CIRCUS PARADE BABY GIFT SET ||| PACK OF 6 SKULL PAPER PLATES': 2,\n",
       " 'CIRCUS PARADE BABY GIFT SET ||| PLASTERS IN TIN SKULLS': 2,\n",
       " 'CREAM SWEETHEART MINI CHEST ||| JAM MAKING SET PRINTED': 2,\n",
       " 'CREAM SWEETHEART MINI CHEST ||| PACK OF 20 SKULL PAPER NAPKINS': 2,\n",
       " 'CREAM SWEETHEART MINI CHEST ||| PACK OF 6 PANNETONE GIFT BOXES': 2,\n",
       " 'CREAM SWEETHEART MINI CHEST ||| PACK OF 6 SKULL PAPER CUPS': 2,\n",
       " 'CREAM SWEETHEART MINI CHEST ||| PACK OF 6 SKULL PAPER PLATES': 2,\n",
       " 'CREAM SWEETHEART MINI CHEST ||| PLASTERS IN TIN SKULLS': 2,\n",
       " 'DELUXE SEWING KIT ||| JAM MAKING SET PRINTED': 2,\n",
       " 'DELUXE SEWING KIT ||| PLASTERS IN TIN SKULLS': 2,\n",
       " 'DELUXE SEWING KIT ||| RETROSPOT TEA SET CERAMIC 11 PC': 2,\n",
       " 'DELUXE SEWING KIT ||| SET OF 4 PANTRY JELLY MOULDS': 2,\n",
       " 'FELTCRAFT PRINCESS CHARLOTTE DOLL ||| FELTCRAFT PRINCESS LOLA DOLL': 2,\n",
       " 'FELTCRAFT PRINCESS CHARLOTTE DOLL ||| PINK BLUE FELT CRAFT TRINKET BOX': 2,\n",
       " 'FELTCRAFT PRINCESS CHARLOTTE DOLL ||| PINK CREAM FELT CRAFT TRINKET BOX': 2,\n",
       " 'FELTCRAFT PRINCESS CHARLOTTE DOLL ||| POSTAGE': 2,\n",
       " 'FELTCRAFT PRINCESS CHARLOTTE DOLL ||| REGENCY CAKESTAND 3 TIER': 2,\n",
       " 'FELTCRAFT PRINCESS LOLA DOLL ||| PINK BLUE FELT CRAFT TRINKET BOX': 2,\n",
       " 'FELTCRAFT PRINCESS LOLA DOLL ||| PINK CREAM FELT CRAFT TRINKET BOX': 2,\n",
       " 'FELTCRAFT PRINCESS LOLA DOLL ||| POSTAGE': 2,\n",
       " 'FELTCRAFT PRINCESS LOLA DOLL ||| REGENCY CAKESTAND 3 TIER': 2,\n",
       " 'LANTERN CREAM GAZEBO ||| POSTAGE': 2,\n",
       " 'LANTERN CREAM GAZEBO ||| SWEETHEART CAKESTAND 3 TIER': 2,\n",
       " 'LANTERN CREAM GAZEBO ||| WHITE HANGING HEART T-LIGHT HOLDER': 2,\n",
       " 'PACK OF 20 SKULL PAPER NAPKINS ||| PACK OF 6 PANNETONE GIFT BOXES': 2,\n",
       " 'PACK OF 20 SKULL PAPER NAPKINS ||| PACK OF 6 SKULL PAPER CUPS': 2,\n",
       " 'PACK OF 20 SKULL PAPER NAPKINS ||| PACK OF 6 SKULL PAPER PLATES': 2,\n",
       " 'PACK OF 20 SKULL PAPER NAPKINS ||| PLASTERS IN TIN SKULLS': 2,\n",
       " 'PACK OF 6 SKULL PAPER CUPS ||| PACK OF 6 SKULL PAPER PLATES': 2,\n",
       " 'PACK OF 6 SKULL PAPER CUPS ||| PLASTERS IN TIN SKULLS': 2,\n",
       " 'PACK OF 6 SKULL PAPER PLATES ||| PLASTERS IN TIN SKULLS': 2,\n",
       " 'PINK BLUE FELT CRAFT TRINKET BOX ||| PINK CREAM FELT CRAFT TRINKET BOX': 2,\n",
       " 'PINK BLUE FELT CRAFT TRINKET BOX ||| POSTAGE': 2,\n",
       " 'PINK BLUE FELT CRAFT TRINKET BOX ||| REGENCY CAKESTAND 3 TIER': 2,\n",
       " 'PINK CREAM FELT CRAFT TRINKET BOX ||| POSTAGE': 2,\n",
       " 'PINK CREAM FELT CRAFT TRINKET BOX ||| REGENCY CAKESTAND 3 TIER': 2,\n",
       " 'PLASTERS IN TIN SKULLS ||| POSTAGE': 2,\n",
       " 'PLASTERS IN TIN SKULLS ||| REGENCY CAKESTAND 3 TIER': 2,\n",
       " 'PLASTERS IN TIN SKULLS ||| RETROSPOT TEA SET CERAMIC 11 PC': 2,\n",
       " 'PLASTERS IN TIN SKULLS ||| SET OF 4 PANTRY JELLY MOULDS': 2,\n",
       " 'PLASTERS IN TIN SKULLS ||| SET/6 RED SPOTTY PAPER CUPS': 2,\n",
       " 'PLASTERS IN TIN SKULLS ||| PLASTERS IN TIN STRONGMAN': 2,\n",
       " 'PLASTERS IN TIN SKULLS ||| PLASTERS IN TIN WOODLAND ANIMALS': 2,\n",
       " 'PLASTERS IN TIN SKULLS ||| RED RETROSPOT MINI CASES': 2,\n",
       " 'PLASTERS IN TIN SKULLS ||| ROUND SNACK BOXES SET OF4 WOODLAND': 2,\n",
       " 'PLASTERS IN TIN SKULLS ||| SET OF 6 TEA TIME BAKING CASES': 2,\n",
       " 'PLASTERS IN TIN SKULLS ||| SET OF 3 WOODEN HEART DECORATIONS': 2,\n",
       " 'PACK OF 12 RED RETROSPOT TISSUES ||| PLASTERS IN TIN CIRCUS PARADE': 2,\n",
       " 'PACK OF 12 RED RETROSPOT TISSUES ||| PLASTERS IN TIN WOODLAND ANIMALS': 2,\n",
       " 'PACK OF 12 RED RETROSPOT TISSUES ||| RETROSPOT TEA SET CERAMIC 11 PC': 2,\n",
       " 'PACK OF 12 RED RETROSPOT TISSUES ||| SET OF 20 KIDS COOKIE CUTTERS': 2,\n",
       " 'IVORY WIRE KITCHEN ORGANISER ||| WHITE HANGING HEART T-LIGHT HOLDER': 2,\n",
       " 'BREAD BIN DINER STYLE IVORY ||| DOORMAT AIRMAIL': 2,\n",
       " 'BREAD BIN DINER STYLE IVORY ||| DOORMAT SPOTTY HOME SWEET HOME': 2,\n",
       " 'BREAD BIN DINER STYLE IVORY ||| DOORMAT WELCOME TO OUR HOME': 2,\n",
       " 'BREAD BIN DINER STYLE IVORY ||| RETROSPOT LARGE MILK JUG': 2,\n",
       " 'BREAD BIN DINER STYLE IVORY ||| SET 3 RETROSPOT TEA,COFFEE,SUGAR': 2,\n",
       " 'BREAD BIN DINER STYLE IVORY ||| BREAD BIN DINER STYLE RED': 2,\n",
       " 'BREAD BIN DINER STYLE IVORY ||| WHITE HANGING HEART T-LIGHT HOLDER': 2,\n",
       " 'BREAD BIN DINER STYLE IVORY ||| RECIPE BOX RETROSPOT': 2,\n",
       " 'JAM MAKING SET WITH JARS ||| MINT KITCHEN SCALES': 2,\n",
       " 'JAM MAKING SET WITH JARS ||| SET OF 6 SPICE TINS PANTRY DESIGN': 2,\n",
       " 'JAM MAKING SET WITH JARS ||| SET OF TEA COFFEE SUGAR TINS PANTRY': 2,\n",
       " 'JAM MAKING SET WITH JARS ||| VINTAGE CREAM CAT FOOD CONTAINER': 2,\n",
       " 'JAM MAKING SET WITH JARS ||| VINTAGE CREAM DOG FOOD CONTAINER': 2,\n",
       " 'JAM MAKING SET WITH JARS ||| LARGE HEART MEASURING SPOONS': 2,\n",
       " 'JAM MAKING SET WITH JARS ||| PLASTERS IN TIN CIRCUS PARADE': 2,\n",
       " 'JAM MAKING SET WITH JARS ||| PLASTERS IN TIN STRONGMAN': 2,\n",
       " 'JAM MAKING SET WITH JARS ||| PLASTERS IN TIN WOODLAND ANIMALS': 2,\n",
       " 'JAM MAKING SET WITH JARS ||| RED RETROSPOT MINI CASES': 2,\n",
       " 'JAM MAKING SET WITH JARS ||| ROUND SNACK BOXES SET OF4 WOODLAND': 2,\n",
       " 'JAM MAKING SET WITH JARS ||| WOODLAND BUNNIES LOLLY MAKERS': 2,\n",
       " 'JAM MAKING SET WITH JARS ||| SET OF 3 WOODEN HEART DECORATIONS': 2,\n",
       " 'JAM MAKING SET WITH JARS ||| POSTAGE': 2,\n",
       " 'JAM MAKING SET WITH JARS ||| REGENCY CAKESTAND 3 TIER': 2,\n",
       " 'JAM MAKING SET WITH JARS ||| SET OF 12 FAIRY CAKE BAKING CASES': 2,\n",
       " 'JAM MAKING SET WITH JARS ||| SET OF 12 MINI LOAF BAKING CASES': 2,\n",
       " 'JAM MAKING SET WITH JARS ||| SET OF 4 KNICK KNACK TINS DOILY': 2,\n",
       " 'JAM MAKING SET WITH JARS ||| VINTAGE DOILY TRAVEL SEWING KIT': 2,\n",
       " 'RECIPE BOX PANTRY YELLOW DESIGN ||| RETROSPOT LARGE MILK JUG': 2,\n",
       " 'RECIPE BOX PANTRY YELLOW DESIGN ||| SET 3 RETROSPOT TEA,COFFEE,SUGAR': 2,\n",
       " 'RECIPE BOX PANTRY YELLOW DESIGN ||| SET OF 3 CAKE TINS PANTRY DESIGN': 2,\n",
       " 'RECIPE BOX PANTRY YELLOW DESIGN ||| SET OF TEA COFFEE SUGAR TINS PANTRY': 2,\n",
       " 'RECIPE BOX PANTRY YELLOW DESIGN ||| VINTAGE CREAM CAT FOOD CONTAINER': 2,\n",
       " 'RECIPE BOX PANTRY YELLOW DESIGN ||| VINTAGE CREAM DOG FOOD CONTAINER': 2,\n",
       " 'RECIPE BOX PANTRY YELLOW DESIGN ||| REGENCY CAKESTAND 3 TIER': 2,\n",
       " 'RECIPE BOX PANTRY YELLOW DESIGN ||| SET OF 12 FAIRY CAKE BAKING CASES': 2,\n",
       " 'RECIPE BOX PANTRY YELLOW DESIGN ||| SET OF 12 MINI LOAF BAKING CASES': 2,\n",
       " 'RECIPE BOX PANTRY YELLOW DESIGN ||| SET OF 4 KNICK KNACK TINS DOILY': 2,\n",
       " 'RECIPE BOX PANTRY YELLOW DESIGN ||| SET OF 6 TEA TIME BAKING CASES': 2,\n",
       " 'RECIPE BOX PANTRY YELLOW DESIGN ||| VINTAGE DOILY TRAVEL SEWING KIT': 2,\n",
       " 'CHRISTMAS CRAFT LITTLE FRIENDS ||| CHRISTMAS CRAFT WHITE FAIRY': 2,\n",
       " 'HANGING HEART JAR T-LIGHT HOLDER ||| JAM MAKING SET WITH JARS': 2,\n",
       " 'HANGING HEART JAR T-LIGHT HOLDER ||| LARGE HEART MEASURING SPOONS': 2,\n",
       " 'HANGING HEART JAR T-LIGHT HOLDER ||| PLASTERS IN TIN CIRCUS PARADE': 2,\n",
       " 'HANGING HEART JAR T-LIGHT HOLDER ||| PLASTERS IN TIN SKULLS': 2,\n",
       " 'HANGING HEART JAR T-LIGHT HOLDER ||| PLASTERS IN TIN STRONGMAN': 2,\n",
       " 'HANGING HEART JAR T-LIGHT HOLDER ||| PLASTERS IN TIN WOODLAND ANIMALS': 2,\n",
       " 'HANGING HEART JAR T-LIGHT HOLDER ||| ROUND SNACK BOXES SET OF4 WOODLAND': 2,\n",
       " 'HANGING HEART JAR T-LIGHT HOLDER ||| SET OF 6 TEA TIME BAKING CASES': 2,\n",
       " 'LARGE HEART MEASURING SPOONS ||| PLASTERS IN TIN CIRCUS PARADE': 2,\n",
       " 'LARGE HEART MEASURING SPOONS ||| PLASTERS IN TIN SKULLS': 2,\n",
       " 'LARGE HEART MEASURING SPOONS ||| PLASTERS IN TIN STRONGMAN': 2,\n",
       " 'LARGE HEART MEASURING SPOONS ||| PLASTERS IN TIN WOODLAND ANIMALS': 2,\n",
       " 'LARGE HEART MEASURING SPOONS ||| ROUND SNACK BOXES SET OF4 WOODLAND': 2,\n",
       " 'LARGE HEART MEASURING SPOONS ||| SET OF 6 TEA TIME BAKING CASES': 2,\n",
       " 'PLASTERS IN TIN STRONGMAN ||| PLASTERS IN TIN WOODLAND ANIMALS': 2,\n",
       " 'PLASTERS IN TIN STRONGMAN ||| ROUND SNACK BOXES SET OF4 WOODLAND': 2,\n",
       " 'PLASTERS IN TIN STRONGMAN ||| SET OF 6 TEA TIME BAKING CASES': 2,\n",
       " 'RED GINGHAM TEDDY BEAR ||| RED RETROSPOT MINI CASES': 2,\n",
       " 'SET OF 6 TEA TIME BAKING CASES ||| WOODLAND BUNNIES LOLLY MAKERS': 2,\n",
       " 'SET OF 6 TEA TIME BAKING CASES ||| VINTAGE DOILY TRAVEL SEWING KIT': 2,\n",
       " 'ADULT APRON APPLE DELIGHT ||| CHILDRENS APRON APPLES DESIGN': 2,\n",
       " 'ADULT APRON APPLE DELIGHT ||| FELTCRAFT DOLL MOLLY': 2,\n",
       " 'ADULT APRON APPLE DELIGHT ||| FELTCRAFT DOLL ROSIE': 2,\n",
       " 'CHRISTMAS GINGHAM STAR ||| CHRISTMAS GINGHAM TREE': 2,\n",
       " 'CHRISTMAS GINGHAM STAR ||| GINGHAM HEART DECORATION': 2,\n",
       " 'CHRISTMAS GINGHAM STAR ||| IVORY WICKER HEART LARGE': 2,\n",
       " 'CHRISTMAS GINGHAM STAR ||| IVORY WICKER HEART MEDIUM': 2,\n",
       " 'CHRISTMAS GINGHAM TREE ||| GINGHAM HEART DECORATION': 2,\n",
       " 'CHRISTMAS GINGHAM TREE ||| IVORY WICKER HEART LARGE': 2,\n",
       " 'CHRISTMAS GINGHAM TREE ||| IVORY WICKER HEART MEDIUM': 2,\n",
       " 'GINGHAM HEART DECORATION ||| IVORY WICKER HEART LARGE': 2,\n",
       " 'GINGHAM HEART DECORATION ||| IVORY WICKER HEART MEDIUM': 2,\n",
       " 'GINGHAM HEART DECORATION ||| RED RETROSPOT MINI CASES': 2,\n",
       " 'GINGHAM HEART DECORATION ||| POSTAGE': 2,\n",
       " 'IVORY WICKER HEART LARGE ||| IVORY WICKER HEART MEDIUM': 2,\n",
       " 'BREAD BIN DINER STYLE RED ||| MINT KITCHEN SCALES': 2,\n",
       " 'BREAD BIN DINER STYLE RED ||| SET OF 3 CAKE TINS PANTRY DESIGN': 2,\n",
       " 'BREAD BIN DINER STYLE RED ||| WHITE HANGING HEART T-LIGHT HOLDER': 2,\n",
       " 'DOORMAT RED RETROSPOT ||| DOORMAT WELCOME TO OUR HOME': 2,\n",
       " 'DOORMAT RED RETROSPOT ||| SMALL RED RETROSPOT MUG IN BOX': 2,\n",
       " 'DOORMAT RED RETROSPOT ||| SMALL WHITE RETROSPOT MUG IN BOX': 2,\n",
       " 'SMALL RED RETROSPOT MUG IN BOX ||| SMALL WHITE RETROSPOT MUG IN BOX': 2,\n",
       " 'CLASSIC CHROME BICYCLE BELL ||| HAND WARMER RED LOVE HEART': 2,\n",
       " 'CLASSIC CHROME BICYCLE BELL ||| JAM MAKING SET WITH JARS': 2,\n",
       " 'CLASSIC CHROME BICYCLE BELL ||| POSTAGE': 2,\n",
       " 'CLASSIC CHROME BICYCLE BELL ||| RECIPE BOX PANTRY YELLOW DESIGN': 2,\n",
       " 'CLASSIC CHROME BICYCLE BELL ||| REGENCY CAKESTAND 3 TIER': 2,\n",
       " 'CLASSIC CHROME BICYCLE BELL ||| SET OF 12 FAIRY CAKE BAKING CASES': 2,\n",
       " 'CLASSIC CHROME BICYCLE BELL ||| SET OF 12 MINI LOAF BAKING CASES': 2,\n",
       " 'CLASSIC CHROME BICYCLE BELL ||| SET OF 4 KNICK KNACK TINS DOILY': 2,\n",
       " 'CLASSIC CHROME BICYCLE BELL ||| SET OF 6 TEA TIME BAKING CASES': 2,\n",
       " 'CLASSIC CHROME BICYCLE BELL ||| VINTAGE DOILY TRAVEL SEWING KIT': 2,\n",
       " 'HAND WARMER RED LOVE HEART ||| JAM MAKING SET WITH JARS': 2,\n",
       " 'HAND WARMER RED LOVE HEART ||| POSTAGE': 2,\n",
       " 'HAND WARMER RED LOVE HEART ||| RECIPE BOX PANTRY YELLOW DESIGN': 2,\n",
       " 'HAND WARMER RED LOVE HEART ||| REGENCY CAKESTAND 3 TIER': 2,\n",
       " 'HAND WARMER RED LOVE HEART ||| SET OF 12 FAIRY CAKE BAKING CASES': 2,\n",
       " 'HAND WARMER RED LOVE HEART ||| SET OF 12 MINI LOAF BAKING CASES': 2,\n",
       " 'HAND WARMER RED LOVE HEART ||| SET OF 4 KNICK KNACK TINS DOILY': 2,\n",
       " 'HAND WARMER RED LOVE HEART ||| SET OF 6 TEA TIME BAKING CASES': 2,\n",
       " 'HAND WARMER RED LOVE HEART ||| VINTAGE DOILY TRAVEL SEWING KIT': 2,\n",
       " 'SET OF 12 FAIRY CAKE BAKING CASES ||| SET OF 12 MINI LOAF BAKING CASES': 2,\n",
       " 'SET OF 12 FAIRY CAKE BAKING CASES ||| SET OF 4 KNICK KNACK TINS DOILY': 2,\n",
       " 'SET OF 12 FAIRY CAKE BAKING CASES ||| SET OF 6 TEA TIME BAKING CASES': 2,\n",
       " 'SET OF 12 FAIRY CAKE BAKING CASES ||| VINTAGE DOILY TRAVEL SEWING KIT': 2,\n",
       " 'SET OF 12 MINI LOAF BAKING CASES ||| SET OF 4 KNICK KNACK TINS DOILY': 2,\n",
       " 'SET OF 12 MINI LOAF BAKING CASES ||| SET OF 6 TEA TIME BAKING CASES': 2,\n",
       " 'SET OF 12 MINI LOAF BAKING CASES ||| VINTAGE DOILY TRAVEL SEWING KIT': 2,\n",
       " 'SET OF 4 KNICK KNACK TINS DOILY ||| SET OF 6 TEA TIME BAKING CASES': 2,\n",
       " 'SET OF 4 KNICK KNACK TINS DOILY ||| VINTAGE DOILY TRAVEL SEWING KIT': 2,\n",
       " 'RED HANGING HEART T-LIGHT HOLDER ||| SET OF 3 CAKE TINS PANTRY DESIGN': 2,\n",
       " 'RED HANGING HEART T-LIGHT HOLDER ||| WHITE HANGING HEART T-LIGHT HOLDER': 2}"
      ]
     },
     "execution_count": 114,
     "metadata": {},
     "output_type": "execute_result"
    }
   ],
   "source": [
    "pair_to_number = dict()\n",
    "for key, value in pair_of_desc.items():\n",
    "    for key2, value2 in value.items():\n",
    "        if (value2 > 1):\n",
    "            pair_to_number[key + \" ||| \" + key2] = value2\n",
    "            \n",
    "{k: v for k, v in sorted(pair_to_number.items(), key=lambda item: item[1], reverse=True)}"
   ]
  }
 ],
 "metadata": {
  "colab": {
   "collapsed_sections": [
    "1wTXQGb8fhpH",
    "UmIR_gpOfhpR",
    "Gz4hWV3cfhpa",
    "tfgx2MQofhpk",
    "E8j9vHa2fhpt",
    "j9WFSD15fhp1",
    "xkDFtXxLfhp-",
    "0zs9ntOGfhqI",
    "3SFNrkb-fhqQ",
    "U-uH-V9BfhqZ",
    "eHIxsT_Mfhqf",
    "LDLweA0Yfhqj",
    "rzpArrmkfhqq",
    "jlX_adwbfhqw",
    "k7b_70CIfhq2",
    "UyC1iE0nfhq5",
    "2ujHtufofhq8",
    "fiV0QEWJfhrA"
   ],
   "name": "exam.ipynb",
   "provenance": []
  },
  "kernelspec": {
   "display_name": "Python 3",
   "language": "python",
   "name": "python3"
  },
  "language_info": {
   "codemirror_mode": {
    "name": "ipython",
    "version": 3
   },
   "file_extension": ".py",
   "mimetype": "text/x-python",
   "name": "python",
   "nbconvert_exporter": "python",
   "pygments_lexer": "ipython3",
   "version": "3.7.4"
  }
 },
 "nbformat": 4,
 "nbformat_minor": 1
}
