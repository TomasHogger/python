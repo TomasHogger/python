{
 "cells": [
  {
   "cell_type": "markdown",
   "metadata": {
    "id": "qRuC9TWzfhnx"
   },
   "source": [
    "# Экзамен по курсу \"Аналитика данных на Python\""
   ]
  },
  {
   "cell_type": "markdown",
   "metadata": {
    "id": "QvAhR3txfhn1"
   },
   "source": [
    "Этот тест проверит Ваши навыки работы с таблицами данных с помощью библиотек pandas и numpy. Задания делятся на простые (⭐️), средние (⭐️⭐️) и сложные (⭐️⭐️⭐️). Решение простых заданий, как правило, требует одной-двух операций с таблицами, тогда как для более сложных может потребоваться несколько последовательных преобразований данных."
   ]
  },
  {
   "cell_type": "markdown",
   "metadata": {
    "id": "Frn9LjCFfhn6"
   },
   "source": [
    "##  Предыстория"
   ]
  },
  {
   "cell_type": "markdown",
   "metadata": {
    "id": "fQ1HxL0Wfhn-"
   },
   "source": [
    "Сегодня Ваш первый день работы в крупном интернет-магазине, который продаёт товары с доставкой по всему миру. Ваша первая задача – проанализировать базу данных покупок, совершённых в магазине за последние несколько лет. База содержит информацию об отдельных транзакциях, про каждую из которых известны номер инвойса (InvoiceNo), дата инвойса(InvoiceDate), код товара (StockCode), описание товара(Description), количество товара в транзакции (Quantity), стоимость единицы товара (UnitPrice), код покупателя (CustomerID), страна покупателя (Country).\n",
    "\n",
    "База выгружена для Вас в формате CSV: файл [```online-retail.csv```](https://drive.google.com/file/d/1O1oJtpEu-u6s6xTu7seQfnNcQjYCt0GF/view?usp=sharing)"
   ]
  },
  {
   "cell_type": "code",
   "execution_count": 1,
   "metadata": {
    "id": "rueTavqpfhoB"
   },
   "outputs": [],
   "source": [
    "import numpy as np\n",
    "import pandas as pd\n",
    "import matplotlib.pyplot as plt"
   ]
  },
  {
   "cell_type": "markdown",
   "metadata": {
    "id": "_And5NHkfhoU"
   },
   "source": [
    "## ⭐️ Вопрос 1\n",
    "\n",
    "Загрузите данные из файла online-retail.csv в переменную типа pandas DataFrame\n",
    "\n",
    "Подсказка: Используйте функцию из библиотеки pandas\n",
    "\n",
    "Какой символ-разделитель используется в этом файле?\n",
    "\n",
    "* Запятая \",\"\n",
    "* Двоеточие \":\"\n",
    "* Точка с запятой \";\"\n",
    "* Символ табуляции \"tab\""
   ]
  },
  {
   "cell_type": "markdown",
   "metadata": {
    "id": "l_C6GGXmfhoW"
   },
   "source": [
    "#### Решение"
   ]
  },
  {
   "cell_type": "code",
   "execution_count": 2,
   "metadata": {
    "id": "zabS9-nPfhoZ"
   },
   "outputs": [],
   "source": [
    "df = pd.read_csv('C://Users/Tem/Downloads/online-retail.csv', sep=\";\")"
   ]
  },
  {
   "cell_type": "code",
   "execution_count": 3,
   "metadata": {},
   "outputs": [
    {
     "data": {
      "text/plain": [
       "['9 InvoiceNo',\n",
       " '9 StockCode',\n",
       " '11 Description',\n",
       " '8 Quantity',\n",
       " '11 InvoiceDate',\n",
       " '9 UnitPrice',\n",
       " '10 CustomerID',\n",
       " '7 Country']"
      ]
     },
     "execution_count": 3,
     "metadata": {},
     "output_type": "execute_result"
    }
   ],
   "source": [
    "[str(len(x)) + \" \" + x for x in df.columns.to_list()]"
   ]
  },
  {
   "cell_type": "markdown",
   "metadata": {
    "id": "zoiRAf7Yfhon"
   },
   "source": [
    "## ⭐️ Вопрос 2\n",
    "\n",
    "Сколько строк в полученной таблице (не считая заголовков столбцов)?"
   ]
  },
  {
   "cell_type": "markdown",
   "metadata": {
    "id": "aWFyZcI9fhop"
   },
   "source": [
    "#### Решение"
   ]
  },
  {
   "cell_type": "code",
   "execution_count": 4,
   "metadata": {
    "id": "q86b9euEfhos"
   },
   "outputs": [
    {
     "data": {
      "text/plain": [
       "(541911, 8)"
      ]
     },
     "execution_count": 4,
     "metadata": {},
     "output_type": "execute_result"
    }
   ],
   "source": [
    "df.shape"
   ]
  },
  {
   "cell_type": "markdown",
   "metadata": {
    "id": "iqElS4zqfho1"
   },
   "source": [
    "## ⭐️ Вопрос 3\n",
    "\n",
    "Сколько столбцов в полученной таблице (не считая индекса)?"
   ]
  },
  {
   "cell_type": "markdown",
   "metadata": {
    "id": "HmYnaf2afho4"
   },
   "source": [
    "#### Решение"
   ]
  },
  {
   "cell_type": "code",
   "execution_count": 5,
   "metadata": {
    "id": "8ko0tmeNfho7"
   },
   "outputs": [
    {
     "data": {
      "text/plain": [
       "(541911, 8)"
      ]
     },
     "execution_count": 5,
     "metadata": {},
     "output_type": "execute_result"
    }
   ],
   "source": [
    "df.shape"
   ]
  },
  {
   "cell_type": "markdown",
   "metadata": {
    "id": "YetDAhQzfhpF"
   },
   "source": [
    "## ⭐️ Вопрос 4\n",
    "\n",
    "Как называется столбец с самым коротким названием?"
   ]
  },
  {
   "cell_type": "markdown",
   "metadata": {
    "id": "1wTXQGb8fhpH"
   },
   "source": [
    "#### Решение"
   ]
  },
  {
   "cell_type": "code",
   "execution_count": 6,
   "metadata": {
    "id": "q3Sim0vXfhpJ"
   },
   "outputs": [
    {
     "data": {
      "text/plain": [
       "['9 InvoiceNo',\n",
       " '9 StockCode',\n",
       " '11 Description',\n",
       " '8 Quantity',\n",
       " '11 InvoiceDate',\n",
       " '9 UnitPrice',\n",
       " '10 CustomerID',\n",
       " '7 Country']"
      ]
     },
     "execution_count": 6,
     "metadata": {},
     "output_type": "execute_result"
    }
   ],
   "source": [
    "[str(len(x)) + \" \" + x for x in df.columns.to_list()]"
   ]
  },
  {
   "cell_type": "markdown",
   "metadata": {
    "id": "qb7eYBMIfhpQ"
   },
   "source": [
    "## ⭐️ Вопрос 5\n",
    "\n",
    "В скольких столбцах встречаются пропущенные значения? (ответ - целое число)"
   ]
  },
  {
   "cell_type": "markdown",
   "metadata": {
    "id": "UmIR_gpOfhpR"
   },
   "source": [
    "#### Решение"
   ]
  },
  {
   "cell_type": "code",
   "execution_count": 7,
   "metadata": {
    "id": "rUPuUnUOfhpS"
   },
   "outputs": [
    {
     "data": {
      "text/plain": [
       "InvoiceNo      False\n",
       "StockCode      False\n",
       "Description     True\n",
       "Quantity       False\n",
       "InvoiceDate    False\n",
       "UnitPrice      False\n",
       "CustomerID      True\n",
       "Country        False\n",
       "dtype: bool"
      ]
     },
     "execution_count": 7,
     "metadata": {},
     "output_type": "execute_result"
    }
   ],
   "source": [
    "df.isna().any()"
   ]
  },
  {
   "cell_type": "markdown",
   "metadata": {
    "id": "1vTefL-QfhpY"
   },
   "source": [
    "## ⭐️ Вопрос 6\n",
    "\n",
    "Сколько пропущенных значений в столбце CustomerID? (ответ - целое число)"
   ]
  },
  {
   "cell_type": "markdown",
   "metadata": {
    "id": "Gz4hWV3cfhpa"
   },
   "source": [
    "#### Решение"
   ]
  },
  {
   "cell_type": "code",
   "execution_count": 8,
   "metadata": {
    "id": "yc2USQa2fhpb"
   },
   "outputs": [
    {
     "data": {
      "text/plain": [
       "(135080, 8)"
      ]
     },
     "execution_count": 8,
     "metadata": {},
     "output_type": "execute_result"
    }
   ],
   "source": [
    "df[df['CustomerID'].isnull()].shape"
   ]
  },
  {
   "cell_type": "markdown",
   "metadata": {
    "id": "R8z3h8U-fhpj"
   },
   "source": [
    "## ⭐️⭐️ Вопрос 7\n",
    "\n",
    "Посмотрим, данные за какой исторический период у нас есть. \n",
    "\n",
    "Данные за какой самый ранний и за какой самый поздний годы содержатся в датасете? В ответе укажите два целых числа через запятую."
   ]
  },
  {
   "cell_type": "markdown",
   "metadata": {
    "id": "tfgx2MQofhpk"
   },
   "source": [
    "#### Решение"
   ]
  },
  {
   "cell_type": "code",
   "execution_count": 9,
   "metadata": {
    "id": "tSDJk8Amfhpl"
   },
   "outputs": [
    {
     "data": {
      "text/plain": [
       "'2010-12-01 08:26:00'"
      ]
     },
     "execution_count": 9,
     "metadata": {},
     "output_type": "execute_result"
    }
   ],
   "source": [
    "df.InvoiceDate.min()"
   ]
  },
  {
   "cell_type": "code",
   "execution_count": 10,
   "metadata": {},
   "outputs": [
    {
     "data": {
      "text/plain": [
       "'2011-12-09 12:52:00'"
      ]
     },
     "execution_count": 10,
     "metadata": {},
     "output_type": "execute_result"
    }
   ],
   "source": [
    "df.InvoiceDate.max()"
   ]
  },
  {
   "cell_type": "markdown",
   "metadata": {
    "id": "INuGGvCZfhps"
   },
   "source": [
    "## ⭐️ Вопрос 8\n",
    "\n",
    "Каковы минимальная и максимальная цена товаров (UnitPrice)? Перечислите через запятую. Цена в этом задании может принимать отрицательные значения."
   ]
  },
  {
   "cell_type": "markdown",
   "metadata": {
    "id": "E8j9vHa2fhpt"
   },
   "source": [
    "#### Решение"
   ]
  },
  {
   "cell_type": "code",
   "execution_count": 11,
   "metadata": {},
   "outputs": [
    {
     "data": {
      "text/plain": [
       "-11062.06"
      ]
     },
     "execution_count": 11,
     "metadata": {},
     "output_type": "execute_result"
    }
   ],
   "source": [
    "df.UnitPrice.min()"
   ]
  },
  {
   "cell_type": "code",
   "execution_count": 12,
   "metadata": {
    "id": "PTFRTpAXfhpu"
   },
   "outputs": [
    {
     "data": {
      "text/plain": [
       "38970.0"
      ]
     },
     "execution_count": 12,
     "metadata": {},
     "output_type": "execute_result"
    }
   ],
   "source": [
    "df.UnitPrice.max()"
   ]
  },
  {
   "cell_type": "markdown",
   "metadata": {
    "id": "20rRayIcfhp0"
   },
   "source": [
    "## ⭐️ Вопрос 9\n",
    "\n",
    "В таблице оказались товары с отрицательными ценами! Это явно какая-то ошибка. Какое описание (Description) у таких транзакций? Перечислите все варианты через запятую, отсортировав строки по алфавиту."
   ]
  },
  {
   "cell_type": "markdown",
   "metadata": {
    "id": "j9WFSD15fhp1"
   },
   "source": [
    "#### Решение"
   ]
  },
  {
   "cell_type": "code",
   "execution_count": 13,
   "metadata": {
    "id": "Vta8JNHKfhp3"
   },
   "outputs": [
    {
     "data": {
      "text/plain": [
       "['Adjust bad debt', 'Adjust bad debt']"
      ]
     },
     "execution_count": 13,
     "metadata": {},
     "output_type": "execute_result"
    }
   ],
   "source": [
    "sorted(df[df.UnitPrice < 0].Description.to_list())"
   ]
  },
  {
   "cell_type": "markdown",
   "metadata": {
    "id": "H1EJKLjAfhp9"
   },
   "source": [
    "## ⭐️ Вопрос 10\n",
    "\n",
    "Поищем ещё возможные проблемы с данными. Как насчёт товаров с нулевыми ценами? \n",
    "\n",
    "Сколько в таблице транзакций с нулевой ценой? А с пропусками на месте цены? \n",
    "\n",
    "Перечислите два целых числа через запятую."
   ]
  },
  {
   "cell_type": "markdown",
   "metadata": {
    "id": "xkDFtXxLfhp-"
   },
   "source": [
    "#### Решение"
   ]
  },
  {
   "cell_type": "code",
   "execution_count": 14,
   "metadata": {
    "id": "_liV7v63fhp_"
   },
   "outputs": [
    {
     "data": {
      "text/plain": [
       "(0, 8)"
      ]
     },
     "execution_count": 14,
     "metadata": {},
     "output_type": "execute_result"
    }
   ],
   "source": [
    "df[df.UnitPrice.isnull()].shape"
   ]
  },
  {
   "cell_type": "markdown",
   "metadata": {
    "id": "Q08_ueCWfhqH"
   },
   "source": [
    "## ⭐️⭐️ Вопрос 11\n",
    "\n",
    "Для дальнейшего анализа поведения покупателей нам понадобится набор данных, в которых у каждой транзакции корректно указана цена, количество единиц товара (Quantity) и id покупателя (CustomerID). Удалите из таблицы все строки, в которых цена не превосходит 0 или пропущена, или количество единиц товара не превосходит 0 или пропущено, или в которых пропущен id покупателя. \n",
    "\n",
    "Сколько строк осталось?"
   ]
  },
  {
   "cell_type": "markdown",
   "metadata": {
    "id": "0zs9ntOGfhqI"
   },
   "source": [
    "#### Решение"
   ]
  },
  {
   "cell_type": "code",
   "execution_count": 15,
   "metadata": {
    "id": "46HTX2BJfhqJ"
   },
   "outputs": [
    {
     "data": {
      "text/plain": [
       "(397886, 8)"
      ]
     },
     "execution_count": 15,
     "metadata": {},
     "output_type": "execute_result"
    }
   ],
   "source": [
    "df = df[(df.UnitPrice > 0)  & (df.Quantity > 0) & (df.CustomerID.notna())]\n",
    "df.shape"
   ]
  },
  {
   "cell_type": "markdown",
   "metadata": {
    "id": "807cvilFfhqO"
   },
   "source": [
    "## Внимание! \n",
    "\n",
    "### Везде далее мы работаем с очищенной таблицей, полученной в Вопросе 11."
   ]
  },
  {
   "cell_type": "markdown",
   "metadata": {
    "id": "4dnjXB-qfhqP"
   },
   "source": [
    "## ⭐️⭐️ Вопрос 12\n",
    "\n",
    "В таблице для каждой транзакции указаны цена за единицу товара (UnitPrice) и количество единиц товара (Quantity). Вычислите для каждой транзакции её **полную стоимость** и сохраните в новом столбце Price, который добавьте в таблицу. \n",
    "\n",
    "Каковы минимальная и максимальная полная стоимость транзакций? Перечислите через запятую, округлив до целых чисел."
   ]
  },
  {
   "cell_type": "markdown",
   "metadata": {
    "id": "3SFNrkb-fhqQ"
   },
   "source": [
    "#### Решение"
   ]
  },
  {
   "cell_type": "code",
   "execution_count": 16,
   "metadata": {
    "id": "iIIRF_p-fhqS"
   },
   "outputs": [
    {
     "data": {
      "text/plain": [
       "0.001"
      ]
     },
     "execution_count": 16,
     "metadata": {},
     "output_type": "execute_result"
    }
   ],
   "source": [
    "df['Price'] = df.UnitPrice * df.Quantity\n",
    "df.Price.min()"
   ]
  },
  {
   "cell_type": "code",
   "execution_count": 17,
   "metadata": {},
   "outputs": [
    {
     "data": {
      "text/plain": [
       "168469.6"
      ]
     },
     "execution_count": 17,
     "metadata": {},
     "output_type": "execute_result"
    }
   ],
   "source": [
    "df.Price.max()"
   ]
  },
  {
   "cell_type": "markdown",
   "metadata": {
    "id": "iXwEUbpAfhqX"
   },
   "source": [
    "## ⭐️⭐️ Вопрос 13\n",
    "\n",
    "В нашей базе данных каждая покупка представлена одной или несколькими транзакциями. Покупка однозначно определяется своим номером инвойса (InvoiceNo). Транзакции, относящиеся к одной покупке, имеют один и тот же InvoiceNo. \n",
    "\n",
    "Стоимость всей покупки равна сумме полных стоимостей транзакций, входящих в неё. Найдите стоимости трёх самых дорогих покупок. Перечислите через запятую в порядке убывания, округлив до целых чисел."
   ]
  },
  {
   "cell_type": "markdown",
   "metadata": {
    "id": "U-uH-V9BfhqZ"
   },
   "source": [
    "#### Решение"
   ]
  },
  {
   "cell_type": "code",
   "execution_count": 18,
   "metadata": {
    "id": "7eRtSDp0fhqZ"
   },
   "outputs": [
    {
     "data": {
      "text/plain": [
       "InvoiceNo\n",
       "581483    168469.6\n",
       "541431     77183.6\n",
       "556444     38970.0\n",
       "Name: Price, dtype: float64"
      ]
     },
     "execution_count": 18,
     "metadata": {},
     "output_type": "execute_result"
    }
   ],
   "source": [
    "df.groupby('InvoiceNo').Price.sum().sort_values(ascending=False).head(3)"
   ]
  },
  {
   "cell_type": "markdown",
   "metadata": {
    "id": "OOFeUBI4fhqd"
   },
   "source": [
    "## ⭐️⭐️ Вопрос 14\n",
    "\n",
    "Какой товар составил наибольшую выручку? В ответе укажите описание товара (дословно строку из соответствующего поля в столбце Description)."
   ]
  },
  {
   "cell_type": "markdown",
   "metadata": {
    "id": "eHIxsT_Mfhqf"
   },
   "source": [
    "#### Решение"
   ]
  },
  {
   "cell_type": "code",
   "execution_count": 19,
   "metadata": {
    "id": "9wCt8Oz4fhqf"
   },
   "outputs": [
    {
     "data": {
      "text/html": [
       "<div>\n",
       "<style scoped>\n",
       "    .dataframe tbody tr th:only-of-type {\n",
       "        vertical-align: middle;\n",
       "    }\n",
       "\n",
       "    .dataframe tbody tr th {\n",
       "        vertical-align: top;\n",
       "    }\n",
       "\n",
       "    .dataframe thead th {\n",
       "        text-align: right;\n",
       "    }\n",
       "</style>\n",
       "<table border=\"1\" class=\"dataframe\">\n",
       "  <thead>\n",
       "    <tr style=\"text-align: right;\">\n",
       "      <th></th>\n",
       "      <th>InvoiceNo</th>\n",
       "      <th>StockCode</th>\n",
       "      <th>Description</th>\n",
       "      <th>Quantity</th>\n",
       "      <th>InvoiceDate</th>\n",
       "      <th>UnitPrice</th>\n",
       "      <th>CustomerID</th>\n",
       "      <th>Country</th>\n",
       "      <th>Price</th>\n",
       "    </tr>\n",
       "  </thead>\n",
       "  <tbody>\n",
       "    <tr>\n",
       "      <td>540421</td>\n",
       "      <td>581483</td>\n",
       "      <td>23843</td>\n",
       "      <td>PAPER CRAFT , LITTLE BIRDIE</td>\n",
       "      <td>80995</td>\n",
       "      <td>2011-12-09 09:15:00</td>\n",
       "      <td>2.08</td>\n",
       "      <td>16446.0</td>\n",
       "      <td>United Kingdom</td>\n",
       "      <td>168469.6</td>\n",
       "    </tr>\n",
       "  </tbody>\n",
       "</table>\n",
       "</div>"
      ],
      "text/plain": [
       "       InvoiceNo StockCode                  Description  Quantity  \\\n",
       "540421    581483     23843  PAPER CRAFT , LITTLE BIRDIE     80995   \n",
       "\n",
       "                InvoiceDate  UnitPrice  CustomerID         Country     Price  \n",
       "540421  2011-12-09 09:15:00       2.08     16446.0  United Kingdom  168469.6  "
      ]
     },
     "execution_count": 19,
     "metadata": {},
     "output_type": "execute_result"
    }
   ],
   "source": [
    "df.sort_values('Price', ascending=False).head(1)"
   ]
  },
  {
   "cell_type": "markdown",
   "metadata": {
    "id": "x7takqgnfhqj"
   },
   "source": [
    "## ⭐️⭐️ Вопрос 15\n",
    "\n",
    "Создайте новую таблицу purchases, в которой каждая строка будет соответствовать отдельной покупке, со столбцами \n",
    "InvoiceNo, InvoiceDate, Price, CustomerID, Country.\n",
    "\n",
    "Поскольку дата InvoiceDate может быть отличаться для разных транзакций внутри одной покупки, при группировке возьмите самую раннюю из дат. Также отсортируйте её по датам по возрастанию.\n",
    "\n",
    "Сколько получилось строк?"
   ]
  },
  {
   "cell_type": "markdown",
   "metadata": {
    "id": "LDLweA0Yfhqj"
   },
   "source": [
    "#### Решение"
   ]
  },
  {
   "cell_type": "code",
   "execution_count": 20,
   "metadata": {
    "id": "jkjImvCXfhql"
   },
   "outputs": [
    {
     "data": {
      "text/plain": [
       "(18533, 5)"
      ]
     },
     "execution_count": 20,
     "metadata": {},
     "output_type": "execute_result"
    }
   ],
   "source": [
    "purchases = pd.DataFrame(columns=['InvoiceNo', 'InvoiceDate', 'Price', 'CustomerID', 'Country'])\n",
    "group = df.groupby('InvoiceNo')\n",
    "purchases.InvoiceNo = group.groups.keys()\n",
    "purchases.Price = group.Price.sum().to_list()\n",
    "purchases.InvoiceDate = group.InvoiceDate.min().to_list()\n",
    "purchases.CustomerID = group.CustomerID.first().to_list()\n",
    "purchases.Country = group.Country.first().to_list()\n",
    "purchases.shape"
   ]
  },
  {
   "cell_type": "markdown",
   "metadata": {
    "id": "wsDjduFpfhqp"
   },
   "source": [
    "## ⭐️⭐️ Вопрос 16\n",
    "\n",
    "Исследуем, растут или убывают покупки наших клиентов после их первой покупки на сайте.\n",
    "Найдите среднюю цену первых покупок клиентов: для каждого клиента возьмите его первую покупку и усредните эти значения. Найдите среднюю цену покупок в целом. Округлите эти числа до целых и перечислите в этом порядке через запятую."
   ]
  },
  {
   "cell_type": "markdown",
   "metadata": {
    "id": "rzpArrmkfhqq"
   },
   "source": [
    "#### Решение"
   ]
  },
  {
   "cell_type": "code",
   "execution_count": 21,
   "metadata": {
    "id": "4fvR_p2Bfhqq"
   },
   "outputs": [
    {
     "data": {
      "text/plain": [
       "425.6565244352229"
      ]
     },
     "execution_count": 21,
     "metadata": {},
     "output_type": "execute_result"
    }
   ],
   "source": [
    "p_copy = purchases.copy()\n",
    "p_copy.InvoiceDate = pd.to_datetime(p_copy.InvoiceDate)\n",
    "p_copy = p_copy.loc[p_copy.groupby('CustomerID').InvoiceDate.idxmin()]\n",
    "p_copy.Price.mean()"
   ]
  },
  {
   "cell_type": "code",
   "execution_count": 27,
   "metadata": {},
   "outputs": [
    {
     "data": {
      "text/plain": [
       "480.8420495332635"
      ]
     },
     "execution_count": 27,
     "metadata": {},
     "output_type": "execute_result"
    }
   ],
   "source": [
    "purchases.Price.mean()"
   ]
  },
  {
   "cell_type": "markdown",
   "metadata": {
    "id": "Qxcpz-aVfhqv"
   },
   "source": [
    "## ⭐️⭐️⭐️ Вопрос 17\n",
    "\n",
    "В какой день недели было наибольшее число покупок? В ответе укажите русское название дня недели, начинающееся с заглавной буквы.\n",
    "\n",
    "\n",
    "Подсказка: \n",
    "* Преобразуйте тип данных в столбце InvoiceDate таблицы purchases из строк в datetime. \n",
    "* Для каждой покупки вычислите день недели, в который она была совершена. Сохраните в новый столбец.\n",
    "* Сгруппируйте таблицу по дням недели."
   ]
  },
  {
   "cell_type": "markdown",
   "metadata": {
    "id": "jlX_adwbfhqw"
   },
   "source": [
    "#### Решение"
   ]
  },
  {
   "cell_type": "code",
   "execution_count": 23,
   "metadata": {
    "id": "WTNLys9dfhqw"
   },
   "outputs": [
    {
     "data": {
      "text/html": [
       "<div>\n",
       "<style scoped>\n",
       "    .dataframe tbody tr th:only-of-type {\n",
       "        vertical-align: middle;\n",
       "    }\n",
       "\n",
       "    .dataframe tbody tr th {\n",
       "        vertical-align: top;\n",
       "    }\n",
       "\n",
       "    .dataframe thead th {\n",
       "        text-align: right;\n",
       "    }\n",
       "</style>\n",
       "<table border=\"1\" class=\"dataframe\">\n",
       "  <thead>\n",
       "    <tr style=\"text-align: right;\">\n",
       "      <th></th>\n",
       "      <th>InvoiceNo</th>\n",
       "      <th>Price</th>\n",
       "      <th>CustomerID</th>\n",
       "      <th>Country</th>\n",
       "    </tr>\n",
       "    <tr>\n",
       "      <th>InvoiceDate</th>\n",
       "      <th></th>\n",
       "      <th></th>\n",
       "      <th></th>\n",
       "      <th></th>\n",
       "    </tr>\n",
       "  </thead>\n",
       "  <tbody>\n",
       "    <tr>\n",
       "      <td>0</td>\n",
       "      <td>2863</td>\n",
       "      <td>2863</td>\n",
       "      <td>2863</td>\n",
       "      <td>2863</td>\n",
       "    </tr>\n",
       "    <tr>\n",
       "      <td>1</td>\n",
       "      <td>3184</td>\n",
       "      <td>3184</td>\n",
       "      <td>3184</td>\n",
       "      <td>3184</td>\n",
       "    </tr>\n",
       "    <tr>\n",
       "      <td>2</td>\n",
       "      <td>3455</td>\n",
       "      <td>3455</td>\n",
       "      <td>3455</td>\n",
       "      <td>3455</td>\n",
       "    </tr>\n",
       "    <tr>\n",
       "      <td>3</td>\n",
       "      <td>4032</td>\n",
       "      <td>4032</td>\n",
       "      <td>4032</td>\n",
       "      <td>4032</td>\n",
       "    </tr>\n",
       "    <tr>\n",
       "      <td>4</td>\n",
       "      <td>2830</td>\n",
       "      <td>2830</td>\n",
       "      <td>2830</td>\n",
       "      <td>2830</td>\n",
       "    </tr>\n",
       "    <tr>\n",
       "      <td>6</td>\n",
       "      <td>2169</td>\n",
       "      <td>2169</td>\n",
       "      <td>2169</td>\n",
       "      <td>2169</td>\n",
       "    </tr>\n",
       "  </tbody>\n",
       "</table>\n",
       "</div>"
      ],
      "text/plain": [
       "             InvoiceNo  Price  CustomerID  Country\n",
       "InvoiceDate                                       \n",
       "0                 2863   2863        2863     2863\n",
       "1                 3184   3184        3184     3184\n",
       "2                 3455   3455        3455     3455\n",
       "3                 4032   4032        4032     4032\n",
       "4                 2830   2830        2830     2830\n",
       "6                 2169   2169        2169     2169"
      ]
     },
     "execution_count": 23,
     "metadata": {},
     "output_type": "execute_result"
    }
   ],
   "source": [
    "p_copy = purchases.copy()\n",
    "p_copy.InvoiceDate = pd.to_datetime(p_copy.InvoiceDate)\n",
    "p_copy.InvoiceDate = [x.weekday() for x in p_copy.InvoiceDate]\n",
    "p_copy.groupby('InvoiceDate').count()"
   ]
  },
  {
   "cell_type": "markdown",
   "metadata": {
    "id": "G84tAqVTfhq1"
   },
   "source": [
    "## ⭐️⭐️⭐️ Вопрос 18\n",
    "\n",
    "В какой год и месяц выручка была максимальной?\n",
    "\n",
    "Подсказка: \n",
    "* Преобразуйте тип данных в столбце InvoiceDate таблицы purchases из строк в datetime. \n",
    "* Для каждой покупки вычислите год и месяц, в которые она была совершена. Сохраните в новые столбцы.\n",
    "* Сгруппируйте таблицу по новым столбцам\n",
    "\n",
    "В ответе укажите два целых числа через запятую: год, месяц"
   ]
  },
  {
   "cell_type": "markdown",
   "metadata": {
    "id": "k7b_70CIfhq2"
   },
   "source": [
    "#### Решение"
   ]
  },
  {
   "cell_type": "code",
   "execution_count": 24,
   "metadata": {
    "id": "C7YosvXBfhq2"
   },
   "outputs": [
    {
     "data": {
      "text/plain": [
       "InvoiceDate\n",
       "2010     572713.890\n",
       "2011    8338731.814\n",
       "Name: Price, dtype: float64"
      ]
     },
     "execution_count": 24,
     "metadata": {},
     "output_type": "execute_result"
    }
   ],
   "source": [
    "p_copy = purchases.copy()\n",
    "p_copy.InvoiceDate = pd.to_datetime(p_copy.InvoiceDate)\n",
    "p_copy.InvoiceDate = [x.year for x in p_copy.InvoiceDate]\n",
    "p_copy.groupby('InvoiceDate').Price.sum()"
   ]
  },
  {
   "cell_type": "code",
   "execution_count": 25,
   "metadata": {},
   "outputs": [
    {
     "data": {
      "text/plain": [
       "InvoiceDate\n",
       "1      569445.040\n",
       "2      447137.350\n",
       "3      595500.760\n",
       "4      469200.361\n",
       "5      678594.560\n",
       "6      661213.690\n",
       "7      600091.011\n",
       "8      645343.900\n",
       "9      952838.382\n",
       "10    1039318.790\n",
       "11    1161817.380\n",
       "12    1090944.480\n",
       "Name: Price, dtype: float64"
      ]
     },
     "execution_count": 25,
     "metadata": {},
     "output_type": "execute_result"
    }
   ],
   "source": [
    "p_copy = purchases.copy()\n",
    "p_copy.InvoiceDate = pd.to_datetime(p_copy.InvoiceDate)\n",
    "p_copy.InvoiceDate = [x.month for x in p_copy.InvoiceDate]\n",
    "p_copy.groupby('InvoiceDate').Price.sum()"
   ]
  },
  {
   "cell_type": "markdown",
   "metadata": {
    "id": "sU7-9E2nfhq4"
   },
   "source": [
    "## ⭐️⭐️⭐️ Вопрос 19\n",
    "\n",
    "Магазин продаёт товары покупателям из разных стран (Country). В какой стране был наибольший процентный рост месячных продаж, если сравнить март 2011 и сентябрь 2011? Сколько процентов составил этот рост? В расчёт брать только страны, в которых были ненулевые продажи в обоих этих месяцах. В ответе укажите через запятую название страны и целое число (процентный рост, округлённый до целого числа)."
   ]
  },
  {
   "cell_type": "markdown",
   "metadata": {
    "id": "UyC1iE0nfhq5"
   },
   "source": [
    "#### Решение"
   ]
  },
  {
   "cell_type": "code",
   "execution_count": 28,
   "metadata": {
    "id": "BB0tn1a_fhq5"
   },
   "outputs": [
    {
     "data": {
      "text/plain": [
       "Country\n",
       "Australia               3.372802\n",
       "Austria                      NaN\n",
       "Belgium                 0.796569\n",
       "Canada                       NaN\n",
       "Channel Islands         2.651052\n",
       "Cyprus                  4.779170\n",
       "Denmark                 0.870646\n",
       "EIRE                    0.528701\n",
       "Finland                 5.370501\n",
       "France                  0.622739\n",
       "Germany                 0.795562\n",
       "Greece                       NaN\n",
       "Italy                   6.457505\n",
       "Japan                   0.436296\n",
       "Netherlands             0.832174\n",
       "Norway                  0.145791\n",
       "Poland                  0.600435\n",
       "Portugal                1.856554\n",
       "Spain                   1.033514\n",
       "Sweden                  1.031773\n",
       "Switzerland             0.225741\n",
       "United Arab Emirates         NaN\n",
       "United Kingdom          0.586358\n",
       "Name: Price, dtype: float64"
      ]
     },
     "execution_count": 28,
     "metadata": {},
     "output_type": "execute_result"
    }
   ],
   "source": [
    "p_copy = purchases.copy()\n",
    "p_copy.InvoiceDate = pd.to_datetime(p_copy.InvoiceDate)\n",
    "p_copy['InvoiceDateYear'] = [x.year for x in p_copy.InvoiceDate]\n",
    "p_copy['InvoiceDateMonth'] = [x.month for x in p_copy.InvoiceDate]\n",
    "p_copy = p_copy[p_copy.InvoiceDateYear == 2011]\n",
    "p_copy[p_copy.InvoiceDateMonth == 3].groupby('Country').Price.sum() / p_copy[p_copy.InvoiceDateMonth == 9].groupby('Country').Price.sum()"
   ]
  },
  {
   "cell_type": "markdown",
   "metadata": {
    "id": "ZvCX0qZufhq7"
   },
   "source": [
    "## ⭐️⭐️⭐️ Вопрос 20\n",
    "\n",
    "Большинство клиентов все свои покупки делают из одной и той же страны. Выясним, однако, насколько велика доля путешественников среди клиентов. \n",
    "Сколько клиентов сделали покупки по крайней мере из двух разных стран? (ответ - целое число)"
   ]
  },
  {
   "cell_type": "markdown",
   "metadata": {
    "id": "2ujHtufofhq8"
   },
   "source": [
    "#### Решение"
   ]
  },
  {
   "cell_type": "code",
   "execution_count": 37,
   "metadata": {
    "id": "2AhOPHJQfhq8"
   },
   "outputs": [
    {
     "data": {
      "text/plain": [
       "8"
      ]
     },
     "execution_count": 37,
     "metadata": {},
     "output_type": "execute_result"
    }
   ],
   "source": [
    "purchases.groupby('CustomerID').filter(lambda x: x.Country.nunique() > 1).CustomerID.nunique()"
   ]
  },
  {
   "cell_type": "markdown",
   "metadata": {
    "id": "pQrKQuPEfhrA"
   },
   "source": [
    "## ⭐️⭐️⭐️ Вопрос 21\n",
    "\n",
    "Мы запускаем в Италии рекомендательную систему \"С этим товаром часто покупают...\", и для этого хотим узнать, какие различные товары чаще всего встречаются в одной покупке из этой страны. Определите, какая пара различных товаров чаще всего встречается в различных покупках с ```Country=='Italy'```, и в скольких покупках это происходит. Одинаковые товары или нет, проверяйте по равенству поля Description. \n",
    "\n",
    "(ответ: название (Description) первого товара, название (Description) второго товара, целое число)"
   ]
  },
  {
   "cell_type": "markdown",
   "metadata": {
    "id": "fiV0QEWJfhrA"
   },
   "source": [
    "#### Решение"
   ]
  },
  {
   "cell_type": "code",
   "execution_count": 38,
   "metadata": {
    "id": "HDa1ruzgfhrA"
   },
   "outputs": [
    {
     "data": {
      "text/plain": [
       "InvoiceNo\n",
       "537022    24\n",
       "539752    16\n",
       "541115    70\n",
       "541703    12\n",
       "542238    26\n",
       "544399    13\n",
       "545664    18\n",
       "546875    51\n",
       "547914    13\n",
       "547931     1\n",
       "549233    14\n",
       "550606     8\n",
       "555107    23\n",
       "555843     9\n",
       "556119     1\n",
       "561259     6\n",
       "562424     1\n",
       "562528    54\n",
       "562922    22\n",
       "564476    18\n",
       "567478    15\n",
       "570919    14\n",
       "571670    65\n",
       "572457    24\n",
       "572695    24\n",
       "572934     1\n",
       "573365    12\n",
       "573508    19\n",
       "573768     1\n",
       "574022     1\n",
       "576907     9\n",
       "577178    11\n",
       "577316    44\n",
       "577609    73\n",
       "577809    13\n",
       "578078    11\n",
       "578108    13\n",
       "580746     8\n",
       "581588     2\n",
       "Name: Description, dtype: int64"
      ]
     },
     "execution_count": 38,
     "metadata": {},
     "output_type": "execute_result"
    }
   ],
   "source": [
    "pair_of_desc = dict()\n",
    "\n",
    "df[df.Country == 'Italy'].groupby('InvoiceNo').Description.nunique()"
   ]
  }
 ],
 "metadata": {
  "colab": {
   "collapsed_sections": [
    "1wTXQGb8fhpH",
    "UmIR_gpOfhpR",
    "Gz4hWV3cfhpa",
    "tfgx2MQofhpk",
    "E8j9vHa2fhpt",
    "j9WFSD15fhp1",
    "xkDFtXxLfhp-",
    "0zs9ntOGfhqI",
    "3SFNrkb-fhqQ",
    "U-uH-V9BfhqZ",
    "eHIxsT_Mfhqf",
    "LDLweA0Yfhqj",
    "rzpArrmkfhqq",
    "jlX_adwbfhqw",
    "k7b_70CIfhq2",
    "UyC1iE0nfhq5",
    "2ujHtufofhq8",
    "fiV0QEWJfhrA"
   ],
   "name": "exam.ipynb",
   "provenance": []
  },
  "kernelspec": {
   "display_name": "Python 3",
   "language": "python",
   "name": "python3"
  },
  "language_info": {
   "codemirror_mode": {
    "name": "ipython",
    "version": 3
   },
   "file_extension": ".py",
   "mimetype": "text/x-python",
   "name": "python",
   "nbconvert_exporter": "python",
   "pygments_lexer": "ipython3",
   "version": "3.7.4"
  }
 },
 "nbformat": 4,
 "nbformat_minor": 1
}
