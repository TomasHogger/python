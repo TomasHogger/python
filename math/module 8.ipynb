{
 "cells": [
  {
   "cell_type": "markdown",
   "metadata": {},
   "source": [
    "Задание 1.\n",
    "\n",
    "Решение без Sympy\n",
    "\n",
    "a)\n",
    "$$f(x, y) = x * (y - 5)^2$$\n",
    "$$f'(x,y)_x = (y-5)^2$$\n",
    "$$f'(x,y)_y = 2x*(y-5)$$\n",
    "\n",
    "б)\n",
    "$$f(x, y) = (y - e/20)^2*sin(\\pi*x)$$\n",
    "$$f'(x,y)_x = (y - e/20)^2*cos(\\pi*x)*\\pi$$\n",
    "$$f'(x,y)_y = sin(\\pi*x)*2(y - e/20)$$\n",
    "\n",
    "в)\n",
    "$$f(x, y) = x*sin(x)*sin(y-2)$$\n",
    "$$f'(x,y)_x = sin(y-2)*sin(x) + cos(x)*x*sin(y-2)$$\n",
    "$$f'(x,y)_y = x*sin(x)*cos(y-2)$$"
   ]
  },
  {
   "cell_type": "code",
   "execution_count": 27,
   "metadata": {},
   "outputs": [],
   "source": [
    "from sympy import *\n",
    "from IPython.display import display, Markdown"
   ]
  },
  {
   "cell_type": "code",
   "execution_count": 100,
   "metadata": {},
   "outputs": [],
   "source": [
    "def printmd(str):\n",
    "    display(Math(str))\n",
    "\n",
    "def printFunction(f):\n",
    "    printmd('f(x,y) = ' + latex(f))\n",
    "    \n",
    "def printDiff(f, var):\n",
    "    printmd('f\\'(x,y)_' + str(var) + ' = ' + latex(diff(f, var)))"
   ]
  },
  {
   "cell_type": "code",
   "execution_count": 101,
   "metadata": {
    "scrolled": true
   },
   "outputs": [
    {
     "name": "stdout",
     "output_type": "stream",
     "text": [
      "а)\n"
     ]
    },
    {
     "data": {
      "text/latex": [
       "$\\displaystyle f(x,y) = x \\left(y - 5\\right)^{2}$"
      ],
      "text/plain": [
       "<IPython.core.display.Math object>"
      ]
     },
     "metadata": {},
     "output_type": "display_data"
    },
    {
     "data": {
      "text/latex": [
       "$\\displaystyle f'(x,y)_x = \\left(y - 5\\right)^{2}$"
      ],
      "text/plain": [
       "<IPython.core.display.Math object>"
      ]
     },
     "metadata": {},
     "output_type": "display_data"
    },
    {
     "data": {
      "text/latex": [
       "$\\displaystyle f'(x,y)_y = x \\left(2 y - 10\\right)$"
      ],
      "text/plain": [
       "<IPython.core.display.Math object>"
      ]
     },
     "metadata": {},
     "output_type": "display_data"
    },
    {
     "name": "stdout",
     "output_type": "stream",
     "text": [
      "б)\n"
     ]
    },
    {
     "data": {
      "text/latex": [
       "$\\displaystyle f(x,y) = \\left(y - \\frac{e}{20}\\right)^{2} \\sin{\\left(\\pi x \\right)}$"
      ],
      "text/plain": [
       "<IPython.core.display.Math object>"
      ]
     },
     "metadata": {},
     "output_type": "display_data"
    },
    {
     "data": {
      "text/latex": [
       "$\\displaystyle f'(x,y)_x = \\pi \\left(y - \\frac{e}{20}\\right)^{2} \\cos{\\left(\\pi x \\right)}$"
      ],
      "text/plain": [
       "<IPython.core.display.Math object>"
      ]
     },
     "metadata": {},
     "output_type": "display_data"
    },
    {
     "data": {
      "text/latex": [
       "$\\displaystyle f'(x,y)_y = \\left(2 y - \\frac{e}{10}\\right) \\sin{\\left(\\pi x \\right)}$"
      ],
      "text/plain": [
       "<IPython.core.display.Math object>"
      ]
     },
     "metadata": {},
     "output_type": "display_data"
    },
    {
     "name": "stdout",
     "output_type": "stream",
     "text": [
      "в)\n"
     ]
    },
    {
     "data": {
      "text/latex": [
       "$\\displaystyle f(x,y) = x \\sin{\\left(x \\right)} \\sin{\\left(y - 2 \\right)}$"
      ],
      "text/plain": [
       "<IPython.core.display.Math object>"
      ]
     },
     "metadata": {},
     "output_type": "display_data"
    },
    {
     "data": {
      "text/latex": [
       "$\\displaystyle f'(x,y)_x = x \\sin{\\left(y - 2 \\right)} \\cos{\\left(x \\right)} + \\sin{\\left(x \\right)} \\sin{\\left(y - 2 \\right)}$"
      ],
      "text/plain": [
       "<IPython.core.display.Math object>"
      ]
     },
     "metadata": {},
     "output_type": "display_data"
    },
    {
     "data": {
      "text/latex": [
       "$\\displaystyle f'(x,y)_y = x \\sin{\\left(x \\right)} \\cos{\\left(y - 2 \\right)}$"
      ],
      "text/plain": [
       "<IPython.core.display.Math object>"
      ]
     },
     "metadata": {},
     "output_type": "display_data"
    }
   ],
   "source": [
    "x,y = symbols('x,y')\n",
    "\n",
    "print(\"а)\")\n",
    "f = x*(y-5)**2\n",
    "\n",
    "printFunction(f)\n",
    "printDiff(f,x)\n",
    "printDiff(f,y)\n",
    "\n",
    "print(\"б)\")\n",
    "f = (y-E/20)**2 * sin(pi*x)\n",
    "printFunction(f)\n",
    "printDiff(f,x)\n",
    "printDiff(f,y)\n",
    "\n",
    "print(\"в)\")\n",
    "f = x*sin(x)*sin(y-2)\n",
    "printFunction(f)\n",
    "printDiff(f,x)\n",
    "printDiff(f,y)"
   ]
  },
  {
   "cell_type": "markdown",
   "metadata": {},
   "source": [
    "Задание 2"
   ]
  },
  {
   "cell_type": "code",
   "execution_count": 180,
   "metadata": {},
   "outputs": [],
   "source": [
    "def fit_predict(xs_fit, ys, xs_predict):\n",
    "    n = len(xs_fit)\n",
    "    MSE = None\n",
    "    \n",
    "    an = symbols('a0:%d'%(len(xs_fit[0]) + 1))[::-1]\n",
    "    \n",
    "    MSE = None\n",
    "    for i1, x in enumerate(xs_fit):\n",
    "        exp = an[-1]\n",
    "        for i2, val in enumerate(x):\n",
    "            exp = exp + an[i2]*val\n",
    "        exp = (exp - ys[i1])**2\n",
    "        MSE = exp if MSE is None else MSE + exp\n",
    "    \n",
    "    MSE /= n\n",
    "    \n",
    "    printmd(\"MSE(a) = \" + latex(MSE))\n",
    "    \n",
    "    MSE_diff = list()\n",
    "    \n",
    "    for a in an:\n",
    "        m_d = diff(MSE, a)\n",
    "        MSE_diff.append(m_d)\n",
    "        printmd(\"MSE(a)\\'_\" + str(a) + \"=\" + latex(m_d))\n",
    "        \n",
    "        \n",
    "    min_point = nonlinsolve(MSE_diff, an)\n",
    "    min_point = list(list(min_point)[0])\n",
    "    \n",
    "    for i, p in enumerate(min_point):\n",
    "        print(str(an[i]) + \" = \" + str(p))\n",
    "        \n",
    "    print(\"MSE = \" + str(MSE.subs(list(zip(an, min_point)))))\n",
    "    \n",
    "    xn = symbols('x1:%d'%(len(min_point)))[::-1]\n",
    "    \n",
    "    exp = min_point[-1]\n",
    "    \n",
    "    for a,x in list(zip(min_point, xn)):\n",
    "        exp += a * x\n",
    "    \n",
    "    for x in xs_predict:\n",
    "        print(\"For values: \" + str(x) + \" predict is: \" + str(exp.subs(list(zip(xn, x)))))"
   ]
  },
  {
   "cell_type": "code",
   "execution_count": 181,
   "metadata": {},
   "outputs": [
    {
     "data": {
      "text/latex": [
       "$\\displaystyle MSE(a) = \\frac{3783025 \\left(\\frac{a_{0}}{1945} + \\frac{112 a_{1}}{389} + a_{2} - 0.00221079691516709\\right)^{2}}{3} + \\frac{2464900 \\left(\\frac{a_{0}}{1570} + \\frac{343 a_{1}}{1570} + a_{2} - 0.00331210191082803\\right)^{2}}{3} + \\frac{2235025 \\left(\\frac{a_{0}}{1495} + \\frac{68 a_{1}}{299} + a_{2} - 0.00327759197324415\\right)^{2}}{3}$"
      ],
      "text/plain": [
       "<IPython.core.display.Math object>"
      ]
     },
     "metadata": {},
     "output_type": "display_data"
    },
    {
     "data": {
      "text/latex": [
       "$\\displaystyle MSE(a)'_a2=3340 a_{0} + \\frac{4272020 a_{1}}{3} + 5655300 a_{2} - 15902.0$"
      ],
      "text/plain": [
       "<IPython.core.display.Math object>"
      ]
     },
     "metadata": {},
     "output_type": "display_data"
    },
    {
     "data": {
      "text/latex": [
       "$\\displaystyle MSE(a)'_a1=\\frac{2486 a_{0}}{3} + 364566 a_{1} + \\frac{4272020 a_{2}}{3} - 3905.06666666667$"
      ],
      "text/plain": [
       "<IPython.core.display.Math object>"
      ]
     },
     "metadata": {},
     "output_type": "display_data"
    },
    {
     "data": {
      "text/latex": [
       "$\\displaystyle MSE(a)'_a0=2 a_{0} + \\frac{2486 a_{1}}{3} + 3340 a_{2} - 9.6$"
      ],
      "text/plain": [
       "<IPython.core.display.Math object>"
      ]
     },
     "metadata": {},
     "output_type": "display_data"
    },
    {
     "name": "stdout",
     "output_type": "stream",
     "text": [
      "a2 = 0.00447524752475332\n",
      "a1 = -0.0118811881188134\n",
      "a0 = 2.24910891089031\n",
      "MSE = 6.20264904261729e-28\n",
      "For values: [1520, 431] predict is: 3.93069306930678\n"
     ]
    }
   ],
   "source": [
    "fit_predict([[1945, 560], [1495, 340], [1570, 343]], [4.3, 4.9, 5.2], [[1520, 431]])"
   ]
  }
 ],
 "metadata": {
  "kernelspec": {
   "display_name": "Python 3",
   "language": "python",
   "name": "python3"
  },
  "language_info": {
   "codemirror_mode": {
    "name": "ipython",
    "version": 3
   },
   "file_extension": ".py",
   "mimetype": "text/x-python",
   "name": "python",
   "nbconvert_exporter": "python",
   "pygments_lexer": "ipython3",
   "version": "3.8.5"
  }
 },
 "nbformat": 4,
 "nbformat_minor": 4
}
