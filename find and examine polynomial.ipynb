{
 "cells": [
  {
   "cell_type": "code",
   "execution_count": 1,
   "metadata": {},
   "outputs": [],
   "source": [
    "from sympy import *\n",
    "from sympy.plotting import plot\n",
    "from sympy.solvers.inequalities import solve_univariate_inequality\n",
    "\n",
    "def polynomial(vals, x_plus=10, x_minus=10):\n",
    "    n = len(vals)\n",
    "    an = symbols('a0:%d'%n)[::-1]\n",
    "    x,y = symbols('x,y')\n",
    "    \n",
    "    fs = list()\n",
    "    for val in vals:\n",
    "        f = -y\n",
    "        for i,a in enumerate(an):\n",
    "            f += a*x**(n-i-1)\n",
    "        f = f.subs([(x, val[0]), (y,val[1])])\n",
    "        fs.append(f)\n",
    "\n",
    "    polynom = nonlinsolve(fs, an)\n",
    "    \n",
    "    f = polynom.args[0][-1]\n",
    "    \n",
    "    for i,a in enumerate(polynom.args[0][:-1]):\n",
    "        f += a*x**(n-i-1)\n",
    "        \n",
    "    zero_of_f = solve(f)\n",
    "        \n",
    "    print('Полином: ' + str(f))\n",
    "    print(\"Функция чётная: \" + str(f==f.subs(x,-x)))\n",
    "    print(\"Функция нечётная: \" + str(f==-f.subs(x,-x)))\n",
    "    print(\"Нули функции: \" + str(zero_of_f))\n",
    "    print('Функция больше 0: ' + str(solve_univariate_inequality(f>0, x)))\n",
    "    print('Функция меньше 0: ' + str(solve_univariate_inequality(f<0, x)))\n",
    "    \n",
    "    plot(f, (x, zero_of_f[0]-x_plus, zero_of_f[-1]+x_minus))\n",
    "    \n",
    "    return f"
   ]
  }
 ],
 "metadata": {
  "kernelspec": {
   "display_name": "Python 3",
   "language": "python",
   "name": "python3"
  },
  "language_info": {
   "codemirror_mode": {
    "name": "ipython",
    "version": 3
   },
   "file_extension": ".py",
   "mimetype": "text/x-python",
   "name": "python",
   "nbconvert_exporter": "python",
   "pygments_lexer": "ipython3",
   "version": "3.7.4"
  }
 },
 "nbformat": 4,
 "nbformat_minor": 2
}
